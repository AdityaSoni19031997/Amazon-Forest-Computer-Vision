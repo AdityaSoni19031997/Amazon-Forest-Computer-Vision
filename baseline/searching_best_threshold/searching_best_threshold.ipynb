{
 "cells": [
  {
   "cell_type": "code",
   "execution_count": 1,
   "metadata": {
    "ExecuteTime": {
     "end_time": "2017-04-27T17:40:46.691661Z",
     "start_time": "2017-04-27T17:40:46.648724Z"
    },
    "collapsed": true
   },
   "outputs": [],
   "source": [
    "import numpy as np\n"
   ]
  },
  {
   "cell_type": "code",
   "execution_count": 2,
   "metadata": {
    "ExecuteTime": {
     "end_time": "2017-04-27T17:41:07.377742Z",
     "start_time": "2017-04-27T17:41:07.236609Z"
    },
    "collapsed": true
   },
   "outputs": [],
   "source": [
    "from sklearn.metrics import fbeta_score\n"
   ]
  },
  {
   "cell_type": "code",
   "execution_count": 9,
   "metadata": {
    "ExecuteTime": {
     "end_time": "2017-04-27T17:44:14.847573Z",
     "start_time": "2017-04-27T17:44:14.845208Z"
    },
    "collapsed": true
   },
   "outputs": [],
   "source": [
    "LABEL_TRESHOLD = 0.2\n",
    "\n",
    "def f2_score(y_true, y_pred):\n",
    "    return fbeta_score(y_true, y_pred > LABEL_THRESHOLD, beta=2, average='samples')"
   ]
  },
  {
   "cell_type": "code",
   "execution_count": 8,
   "metadata": {
    "ExecuteTime": {
     "end_time": "2017-04-27T17:43:59.976945Z",
     "start_time": "2017-04-27T17:43:59.745570Z"
    }
   },
   "outputs": [],
   "source": [
    "true_target = np.loadtxt('true_target.csv')"
   ]
  },
  {
   "cell_type": "code",
   "execution_count": 5,
   "metadata": {
    "ExecuteTime": {
     "end_time": "2017-04-27T17:42:57.451604Z",
     "start_time": "2017-04-27T17:42:57.089309Z"
    },
    "collapsed": true
   },
   "outputs": [],
   "source": [
    "predictions = np.loadtxt('predictions.csv')"
   ]
  },
  {
   "cell_type": "code",
   "execution_count": 65,
   "metadata": {
    "ExecuteTime": {
     "end_time": "2017-04-27T19:02:27.399302Z",
     "start_time": "2017-04-27T19:02:27.396899Z"
    }
   },
   "outputs": [],
   "source": [
    "filter_array = np.array([0.01,0.02,0.03,0.04,0.05,0.06,0.07,\n",
    "                        0.08,0.09,0.10,0.11,0.12,0.13,0.14,\n",
    "                        0.15,0.16,0.17])"
   ]
  },
  {
   "cell_type": "code",
   "execution_count": 14,
   "metadata": {
    "ExecuteTime": {
     "end_time": "2017-04-27T17:52:57.417081Z",
     "start_time": "2017-04-27T17:52:57.412651Z"
    }
   },
   "outputs": [],
   "source": [
    "example = np.array([[0.10,0.10,0.10,0.10,0.10,0.10,0.10,\n",
    "                        0.10,0.10,0.10,0.10,0.10,0.10,0.10,\n",
    "                        0.10,0.10,0.10],\n",
    "                   [0.05,0.05,0.05,0.05,0.05,0.05,0.05,\n",
    "                        0.05,0.05,0.05,0.05,0.05,0.05,0.05,\n",
    "                        0.05,0.05,0.05],\n",
    "                   [0.15,0.15,0.15,0.15,0.15,0.15,0.15,\n",
    "                        0.15,0.15,0.15,0.15,0.15,0.15,0.15,\n",
    "                        0.15,0.15,0.15]\n",
    "                   ])"
   ]
  },
  {
   "cell_type": "code",
   "execution_count": 15,
   "metadata": {
    "ExecuteTime": {
     "end_time": "2017-04-27T17:53:09.446766Z",
     "start_time": "2017-04-27T17:53:09.444022Z"
    }
   },
   "outputs": [
    {
     "data": {
      "text/plain": [
       "array([[ True,  True,  True,  True,  True,  True,  True,  True,  True,\n",
       "        False, False, False, False, False, False, False, False],\n",
       "       [ True,  True,  True,  True, False, False, False, False, False,\n",
       "        False, False, False, False, False, False, False, False],\n",
       "       [ True,  True,  True,  True,  True,  True,  True,  True,  True,\n",
       "         True,  True,  True,  True,  True, False, False, False]], dtype=bool)"
      ]
     },
     "execution_count": 15,
     "metadata": {},
     "output_type": "execute_result"
    }
   ],
   "source": [
    "example > filter_array"
   ]
  },
  {
   "cell_type": "code",
   "execution_count": 16,
   "metadata": {
    "ExecuteTime": {
     "end_time": "2017-04-27T17:54:04.222078Z",
     "start_time": "2017-04-27T17:54:04.217771Z"
    }
   },
   "outputs": [
    {
     "data": {
      "text/plain": [
       "array([[ 0.,  0.,  0., ...,  0.,  0.,  0.],\n",
       "       [ 1.,  0.,  0., ...,  0.,  0.,  0.],\n",
       "       [ 1.,  0.,  0., ...,  0.,  0.,  0.],\n",
       "       ..., \n",
       "       [ 0.,  0.,  0., ...,  0.,  0.,  0.],\n",
       "       [ 0.,  0.,  0., ...,  0.,  0.,  0.],\n",
       "       [ 0.,  0.,  0., ...,  0.,  0.,  0.]])"
      ]
     },
     "execution_count": 16,
     "metadata": {},
     "output_type": "execute_result"
    }
   ],
   "source": [
    "true_target"
   ]
  },
  {
   "cell_type": "code",
   "execution_count": 24,
   "metadata": {
    "ExecuteTime": {
     "end_time": "2017-04-27T17:58:04.538589Z",
     "start_time": "2017-04-27T17:58:04.535895Z"
    },
    "collapsed": true
   },
   "outputs": [],
   "source": [
    "def f_opt(threshold):\n",
    "    return - fbeta_score(true_target, predictions > threshold, beta=2, average='samples')"
   ]
  },
  {
   "cell_type": "code",
   "execution_count": 25,
   "metadata": {
    "ExecuteTime": {
     "end_time": "2017-04-27T17:58:05.761592Z",
     "start_time": "2017-04-27T17:58:05.743614Z"
    }
   },
   "outputs": [
    {
     "data": {
      "text/plain": [
       "-0.82662824639357735"
      ]
     },
     "execution_count": 25,
     "metadata": {},
     "output_type": "execute_result"
    }
   ],
   "source": [
    "f_opt(filter_array)"
   ]
  },
  {
   "cell_type": "code",
   "execution_count": 26,
   "metadata": {
    "ExecuteTime": {
     "end_time": "2017-04-27T17:58:07.216332Z",
     "start_time": "2017-04-27T17:58:07.214294Z"
    },
    "collapsed": true
   },
   "outputs": [],
   "source": [
    "import scipy.optimize as optimize"
   ]
  },
  {
   "cell_type": "code",
   "execution_count": 27,
   "metadata": {
    "ExecuteTime": {
     "end_time": "2017-04-27T17:58:28.087647Z",
     "start_time": "2017-04-27T17:58:12.586856Z"
    }
   },
   "outputs": [
    {
     "name": "stdout",
     "output_type": "stream",
     "text": [
      "Optimization terminated successfully.\n",
      "         Current function value: -0.842704\n",
      "         Iterations: 640\n",
      "         Function evaluations: 1144\n"
     ]
    }
   ],
   "source": [
    "xopt = optimize.fmin(f_opt, filter_array, xtol=1e-8, disp=True)"
   ]
  },
  {
   "cell_type": "code",
   "execution_count": 28,
   "metadata": {
    "ExecuteTime": {
     "end_time": "2017-04-27T17:58:53.808621Z",
     "start_time": "2017-04-27T17:58:53.805371Z"
    }
   },
   "outputs": [
    {
     "data": {
      "text/plain": [
       "array([ 0.02731559,  0.0271005 ,  0.02662923,  0.07731717,  0.0342785 ,\n",
       "        0.10929462,  0.04310637,  0.04655365,  0.1809137 ,  0.06826109,\n",
       "        0.11079291,  0.07854928,  0.02996431,  0.18858926,  0.13480435,\n",
       "        0.02359167,  0.09036682])"
      ]
     },
     "execution_count": 28,
     "metadata": {},
     "output_type": "execute_result"
    }
   ],
   "source": [
    "xopt"
   ]
  },
  {
   "cell_type": "code",
   "execution_count": 69,
   "metadata": {
    "ExecuteTime": {
     "end_time": "2017-04-27T19:02:56.836926Z",
     "start_time": "2017-04-27T19:02:56.834572Z"
    },
    "collapsed": true
   },
   "outputs": [],
   "source": [
    "filter_array = np.array([-2,30,4,0.0004,0.0895,1.5,89,\n",
    "                        1000,-35,22,1,0,-0.0987,0.14,\n",
    "                        0.15,54780,-170])"
   ]
  },
  {
   "cell_type": "code",
   "execution_count": 49,
   "metadata": {
    "ExecuteTime": {
     "end_time": "2017-04-27T18:48:29.888142Z",
     "start_time": "2017-04-27T18:48:16.266963Z"
    }
   },
   "outputs": [
    {
     "name": "stdout",
     "output_type": "stream",
     "text": [
      "Optimization terminated successfully.\n",
      "         Current function value: -0.508790\n",
      "         Iterations: 263\n",
      "         Function evaluations: 999\n"
     ]
    }
   ],
   "source": [
    "xopt = optimize.fmin(f_opt, filter_array, xtol=1e-8, disp=True)"
   ]
  },
  {
   "cell_type": "code",
   "execution_count": 31,
   "metadata": {
    "ExecuteTime": {
     "end_time": "2017-04-27T18:08:22.100098Z",
     "start_time": "2017-04-27T18:08:22.096442Z"
    }
   },
   "outputs": [
    {
     "data": {
      "text/plain": [
       "array([ -2.49557834e+00,   3.29638128e+01,   4.72411970e+00,\n",
       "         4.40643107e-04,   9.10924049e-02,   1.84315810e+00,\n",
       "         8.96740927e+01,   8.76809338e+02,  -3.01608331e+01,\n",
       "         2.10540110e+01,   9.95828035e-02,   4.40194090e-04,\n",
       "        -9.99283099e-02,   1.50942106e-01,   1.52730232e-01,\n",
       "         5.77222811e+04,  -1.50275866e+02])"
      ]
     },
     "execution_count": 31,
     "metadata": {},
     "output_type": "execute_result"
    }
   ],
   "source": [
    "xopt"
   ]
  },
  {
   "cell_type": "code",
   "execution_count": 32,
   "metadata": {
    "ExecuteTime": {
     "end_time": "2017-04-27T18:29:05.187071Z",
     "start_time": "2017-04-27T18:29:05.185066Z"
    },
    "collapsed": true
   },
   "outputs": [],
   "source": [
    "constraints = [(0,1) for i in range(17)]"
   ]
  },
  {
   "cell_type": "code",
   "execution_count": 33,
   "metadata": {
    "ExecuteTime": {
     "end_time": "2017-04-27T18:29:08.272517Z",
     "start_time": "2017-04-27T18:29:08.268564Z"
    }
   },
   "outputs": [
    {
     "data": {
      "text/plain": [
       "[(0, 1),\n",
       " (0, 1),\n",
       " (0, 1),\n",
       " (0, 1),\n",
       " (0, 1),\n",
       " (0, 1),\n",
       " (0, 1),\n",
       " (0, 1),\n",
       " (0, 1),\n",
       " (0, 1),\n",
       " (0, 1),\n",
       " (0, 1),\n",
       " (0, 1),\n",
       " (0, 1),\n",
       " (0, 1),\n",
       " (0, 1),\n",
       " (0, 1)]"
      ]
     },
     "execution_count": 33,
     "metadata": {},
     "output_type": "execute_result"
    }
   ],
   "source": [
    "constraints"
   ]
  },
  {
   "cell_type": "code",
   "execution_count": 54,
   "metadata": {
    "ExecuteTime": {
     "end_time": "2017-04-27T18:49:51.605935Z",
     "start_time": "2017-04-27T18:49:51.355834Z"
    }
   },
   "outputs": [],
   "source": [
    "x1opt = optimize.fmin_l_bfgs_b(f_opt, filter_array, approx_grad = True, bounds=constraints, pgtol=1e-8)"
   ]
  },
  {
   "cell_type": "code",
   "execution_count": 55,
   "metadata": {
    "ExecuteTime": {
     "end_time": "2017-04-27T18:49:52.525071Z",
     "start_time": "2017-04-27T18:49:52.521254Z"
    }
   },
   "outputs": [
    {
     "data": {
      "text/plain": [
       "(array([ 0.01,  0.02,  0.03,  0.04,  0.05,  0.06,  0.07,  0.08,  0.09,\n",
       "         0.1 ,  0.11,  0.12,  0.13,  0.14,  0.15,  0.16,  0.17]),\n",
       " -0.82662824639357735,\n",
       " {'funcalls': 18,\n",
       "  'grad': array([ 0.,  0.,  0.,  0.,  0.,  0.,  0.,  0.,  0.,  0.,  0.,  0.,  0.,\n",
       "          0.,  0.,  0.,  0.]),\n",
       "  'nit': 0,\n",
       "  'task': b'CONVERGENCE: NORM_OF_PROJECTED_GRADIENT_<=_PGTOL',\n",
       "  'warnflag': 0})"
      ]
     },
     "execution_count": 55,
     "metadata": {},
     "output_type": "execute_result"
    }
   ],
   "source": [
    "x1opt"
   ]
  },
  {
   "cell_type": "code",
   "execution_count": 61,
   "metadata": {
    "ExecuteTime": {
     "end_time": "2017-04-27T19:01:33.782637Z",
     "start_time": "2017-04-27T19:01:33.780046Z"
    }
   },
   "outputs": [],
   "source": [
    "# Cobyla constraints are build by comparing return value with 0.\n",
    "# They must be >= 0 or be rejected\n",
    "\n",
    "def constr_sup0(x):\n",
    "    return np.min(x)\n",
    "def constr_inf1(x):\n",
    "    return 1 - np.max(x)"
   ]
  },
  {
   "cell_type": "code",
   "execution_count": 70,
   "metadata": {
    "ExecuteTime": {
     "end_time": "2017-04-27T19:03:14.600875Z",
     "start_time": "2017-04-27T19:03:01.663322Z"
    }
   },
   "outputs": [
    {
     "name": "stdout",
     "output_type": "stream",
     "text": [
      "COBYLA failed to find a solution: Did not converge to a solution satisfying the constraints. See `maxcv` for magnitude of violation.\n"
     ]
    }
   ],
   "source": [
    "x2opt = optimize.fmin_cobyla(f_opt, filter_array, [constr_sup0,constr_inf1])"
   ]
  },
  {
   "cell_type": "code",
   "execution_count": 67,
   "metadata": {
    "ExecuteTime": {
     "end_time": "2017-04-27T19:02:37.608401Z",
     "start_time": "2017-04-27T19:02:37.605496Z"
    }
   },
   "outputs": [
    {
     "data": {
      "text/plain": [
       "array([ 0.26280837,  0.96995811,  0.99543876,  0.67959601,  0.02391652,\n",
       "        0.43268884,  0.15414837,  0.02334634,  0.38875806,  0.11339665,\n",
       "        0.19358153,  0.09235863,  0.17984985,  0.35286687,  0.21257828,\n",
       "        0.19223617,  0.12633189])"
      ]
     },
     "execution_count": 67,
     "metadata": {},
     "output_type": "execute_result"
    }
   ],
   "source": [
    "x2opt"
   ]
  },
  {
   "cell_type": "code",
   "execution_count": 68,
   "metadata": {
    "ExecuteTime": {
     "end_time": "2017-04-27T19:02:40.291461Z",
     "start_time": "2017-04-27T19:02:40.274503Z"
    }
   },
   "outputs": [
    {
     "data": {
      "text/plain": [
       "-0.87837138210781296"
      ]
     },
     "execution_count": 68,
     "metadata": {},
     "output_type": "execute_result"
    }
   ],
   "source": [
    "f_opt(x2opt)"
   ]
  },
  {
   "cell_type": "code",
   "execution_count": 71,
   "metadata": {
    "ExecuteTime": {
     "end_time": "2017-04-27T19:05:34.080213Z",
     "start_time": "2017-04-27T19:05:34.077869Z"
    },
    "collapsed": true
   },
   "outputs": [],
   "source": [
    "filter_array = np.array([0.02,0.02,0.02,0.02,0.02,0.02,0.02,\n",
    "                        0.02,0.02,0.02,0.02,0.02,0.02,0.02,\n",
    "                        0.02,0.02,0.02])"
   ]
  },
  {
   "cell_type": "code",
   "execution_count": 72,
   "metadata": {
    "ExecuteTime": {
     "end_time": "2017-04-27T19:05:53.781851Z",
     "start_time": "2017-04-27T19:05:49.133385Z"
    }
   },
   "outputs": [
    {
     "name": "stderr",
     "output_type": "stream",
     "text": [
      "/usr/lib/python3.6/site-packages/sklearn/metrics/classification.py:1113: UndefinedMetricWarning: F-score is ill-defined and being set to 0.0 in samples with no predicted labels.\n",
      "  'precision', 'predicted', average, warn_for)\n"
     ]
    }
   ],
   "source": [
    "x2opt = optimize.fmin_cobyla(f_opt, filter_array, [constr_sup0,constr_inf1])"
   ]
  },
  {
   "cell_type": "code",
   "execution_count": 73,
   "metadata": {
    "ExecuteTime": {
     "end_time": "2017-04-27T19:05:55.420565Z",
     "start_time": "2017-04-27T19:05:55.417046Z"
    }
   },
   "outputs": [
    {
     "data": {
      "text/plain": [
       "array([ 0.29695534,  0.61885414,  0.95819905,  0.9245769 ,  0.96039942,\n",
       "        0.40446729,  0.2360938 ,  0.92673439,  0.27731897,  0.10289876,\n",
       "        0.17834395,  0.08832439,  0.1517644 ,  0.21374738,  0.97413643,\n",
       "        0.5231204 ,  0.12911092])"
      ]
     },
     "execution_count": 73,
     "metadata": {},
     "output_type": "execute_result"
    }
   ],
   "source": [
    "x2opt"
   ]
  },
  {
   "cell_type": "code",
   "execution_count": 74,
   "metadata": {
    "ExecuteTime": {
     "end_time": "2017-04-27T19:06:20.925156Z",
     "start_time": "2017-04-27T19:06:20.908749Z"
    }
   },
   "outputs": [
    {
     "data": {
      "text/plain": [
       "-0.87940905151433246"
      ]
     },
     "execution_count": 74,
     "metadata": {},
     "output_type": "execute_result"
    }
   ],
   "source": [
    "f_opt(x2opt)"
   ]
  },
  {
   "cell_type": "code",
   "execution_count": 77,
   "metadata": {
    "ExecuteTime": {
     "end_time": "2017-04-27T19:35:59.361462Z",
     "start_time": "2017-04-27T19:35:59.359375Z"
    },
    "collapsed": true
   },
   "outputs": [],
   "source": [
    "thr_0 = np.array([0.2 for i in range(17)])"
   ]
  },
  {
   "cell_type": "code",
   "execution_count": 78,
   "metadata": {
    "ExecuteTime": {
     "end_time": "2017-04-27T19:36:01.378288Z",
     "start_time": "2017-04-27T19:36:01.375239Z"
    }
   },
   "outputs": [
    {
     "data": {
      "text/plain": [
       "array([ 0.2,  0.2,  0.2,  0.2,  0.2,  0.2,  0.2,  0.2,  0.2,  0.2,  0.2,\n",
       "        0.2,  0.2,  0.2,  0.2,  0.2,  0.2])"
      ]
     },
     "execution_count": 78,
     "metadata": {},
     "output_type": "execute_result"
    }
   ],
   "source": [
    "thr_0"
   ]
  },
  {
   "cell_type": "code",
   "execution_count": null,
   "metadata": {
    "collapsed": true
   },
   "outputs": [],
   "source": []
  }
 ],
 "metadata": {
  "kernelspec": {
   "display_name": "Python 3",
   "language": "python",
   "name": "python3"
  },
  "language_info": {
   "codemirror_mode": {
    "name": "ipython",
    "version": 3
   },
   "file_extension": ".py",
   "mimetype": "text/x-python",
   "name": "python",
   "nbconvert_exporter": "python",
   "pygments_lexer": "ipython3",
   "version": "3.6.0"
  }
 },
 "nbformat": 4,
 "nbformat_minor": 2
}
