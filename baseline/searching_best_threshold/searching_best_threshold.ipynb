{
 "cells": [
  {
   "cell_type": "code",
   "execution_count": 7,
   "metadata": {
    "ExecuteTime": {
     "end_time": "2017-04-29T13:09:10.021854Z",
     "start_time": "2017-04-29T13:09:10.019804Z"
    },
    "collapsed": true
   },
   "outputs": [],
   "source": [
    "import numpy as np\n"
   ]
  },
  {
   "cell_type": "code",
   "execution_count": null,
   "metadata": {
    "ExecuteTime": {
     "end_time": "2017-04-27T17:41:07.377742Z",
     "start_time": "2017-04-27T17:41:07.236609Z"
    },
    "collapsed": true
   },
   "outputs": [],
   "source": [
    "from sklearn.metrics import fbeta_score\n"
   ]
  },
  {
   "cell_type": "code",
   "execution_count": null,
   "metadata": {
    "ExecuteTime": {
     "end_time": "2017-04-27T17:44:14.847573Z",
     "start_time": "2017-04-27T17:44:14.845208Z"
    },
    "collapsed": true
   },
   "outputs": [],
   "source": [
    "LABEL_TRESHOLD = 0.2\n",
    "\n",
    "def f2_score(y_true, y_pred):\n",
    "    return fbeta_score(y_true, y_pred > LABEL_THRESHOLD, beta=2, average='samples')"
   ]
  },
  {
   "cell_type": "code",
   "execution_count": null,
   "metadata": {
    "ExecuteTime": {
     "end_time": "2017-04-27T17:43:59.976945Z",
     "start_time": "2017-04-27T17:43:59.745570Z"
    },
    "collapsed": true
   },
   "outputs": [],
   "source": [
    "true_target = np.loadtxt('true_target.csv')"
   ]
  },
  {
   "cell_type": "code",
   "execution_count": null,
   "metadata": {
    "ExecuteTime": {
     "end_time": "2017-04-27T17:42:57.451604Z",
     "start_time": "2017-04-27T17:42:57.089309Z"
    },
    "collapsed": true
   },
   "outputs": [],
   "source": [
    "predictions = np.loadtxt('predictions.csv')"
   ]
  },
  {
   "cell_type": "code",
   "execution_count": null,
   "metadata": {
    "ExecuteTime": {
     "end_time": "2017-04-27T19:02:27.399302Z",
     "start_time": "2017-04-27T19:02:27.396899Z"
    },
    "collapsed": true
   },
   "outputs": [],
   "source": [
    "filter_array = np.array([0.01,0.02,0.03,0.04,0.05,0.06,0.07,\n",
    "                        0.08,0.09,0.10,0.11,0.12,0.13,0.14,\n",
    "                        0.15,0.16,0.17])"
   ]
  },
  {
   "cell_type": "code",
   "execution_count": null,
   "metadata": {
    "ExecuteTime": {
     "end_time": "2017-04-27T17:52:57.417081Z",
     "start_time": "2017-04-27T17:52:57.412651Z"
    },
    "collapsed": true
   },
   "outputs": [],
   "source": [
    "example = np.array([[0.10,0.10,0.10,0.10,0.10,0.10,0.10,\n",
    "                        0.10,0.10,0.10,0.10,0.10,0.10,0.10,\n",
    "                        0.10,0.10,0.10],\n",
    "                   [0.05,0.05,0.05,0.05,0.05,0.05,0.05,\n",
    "                        0.05,0.05,0.05,0.05,0.05,0.05,0.05,\n",
    "                        0.05,0.05,0.05],\n",
    "                   [0.15,0.15,0.15,0.15,0.15,0.15,0.15,\n",
    "                        0.15,0.15,0.15,0.15,0.15,0.15,0.15,\n",
    "                        0.15,0.15,0.15]\n",
    "                   ])"
   ]
  },
  {
   "cell_type": "code",
   "execution_count": null,
   "metadata": {
    "ExecuteTime": {
     "end_time": "2017-04-27T17:53:09.446766Z",
     "start_time": "2017-04-27T17:53:09.444022Z"
    }
   },
   "outputs": [],
   "source": [
    "example > filter_array"
   ]
  },
  {
   "cell_type": "code",
   "execution_count": null,
   "metadata": {
    "ExecuteTime": {
     "end_time": "2017-04-27T17:54:04.222078Z",
     "start_time": "2017-04-27T17:54:04.217771Z"
    }
   },
   "outputs": [],
   "source": [
    "true_target"
   ]
  },
  {
   "cell_type": "code",
   "execution_count": null,
   "metadata": {
    "ExecuteTime": {
     "end_time": "2017-04-27T17:58:04.538589Z",
     "start_time": "2017-04-27T17:58:04.535895Z"
    },
    "collapsed": true
   },
   "outputs": [],
   "source": [
    "def f_opt(threshold):\n",
    "    return - fbeta_score(true_target, predictions > threshold, beta=2, average='samples')"
   ]
  },
  {
   "cell_type": "code",
   "execution_count": null,
   "metadata": {
    "ExecuteTime": {
     "end_time": "2017-04-27T17:58:05.761592Z",
     "start_time": "2017-04-27T17:58:05.743614Z"
    }
   },
   "outputs": [],
   "source": [
    "f_opt(filter_array)"
   ]
  },
  {
   "cell_type": "code",
   "execution_count": null,
   "metadata": {
    "ExecuteTime": {
     "end_time": "2017-04-27T17:58:07.216332Z",
     "start_time": "2017-04-27T17:58:07.214294Z"
    },
    "collapsed": true
   },
   "outputs": [],
   "source": [
    "import scipy.optimize as optimize"
   ]
  },
  {
   "cell_type": "code",
   "execution_count": null,
   "metadata": {
    "ExecuteTime": {
     "end_time": "2017-04-27T17:58:28.087647Z",
     "start_time": "2017-04-27T17:58:12.586856Z"
    }
   },
   "outputs": [],
   "source": [
    "xopt = optimize.fmin(f_opt, filter_array, xtol=1e-8, disp=True)"
   ]
  },
  {
   "cell_type": "code",
   "execution_count": null,
   "metadata": {
    "ExecuteTime": {
     "end_time": "2017-04-27T17:58:53.808621Z",
     "start_time": "2017-04-27T17:58:53.805371Z"
    }
   },
   "outputs": [],
   "source": [
    "xopt"
   ]
  },
  {
   "cell_type": "code",
   "execution_count": null,
   "metadata": {
    "ExecuteTime": {
     "end_time": "2017-04-27T19:02:56.836926Z",
     "start_time": "2017-04-27T19:02:56.834572Z"
    },
    "collapsed": true
   },
   "outputs": [],
   "source": [
    "filter_array = np.array([-2,30,4,0.0004,0.0895,1.5,89,\n",
    "                        1000,-35,22,1,0,-0.0987,0.14,\n",
    "                        0.15,54780,-170])"
   ]
  },
  {
   "cell_type": "code",
   "execution_count": null,
   "metadata": {
    "ExecuteTime": {
     "end_time": "2017-04-27T18:48:29.888142Z",
     "start_time": "2017-04-27T18:48:16.266963Z"
    }
   },
   "outputs": [],
   "source": [
    "xopt = optimize.fmin(f_opt, filter_array, xtol=1e-8, disp=True)"
   ]
  },
  {
   "cell_type": "code",
   "execution_count": null,
   "metadata": {
    "ExecuteTime": {
     "end_time": "2017-04-27T18:08:22.100098Z",
     "start_time": "2017-04-27T18:08:22.096442Z"
    }
   },
   "outputs": [],
   "source": [
    "xopt"
   ]
  },
  {
   "cell_type": "code",
   "execution_count": null,
   "metadata": {
    "ExecuteTime": {
     "end_time": "2017-04-27T18:29:05.187071Z",
     "start_time": "2017-04-27T18:29:05.185066Z"
    },
    "collapsed": true
   },
   "outputs": [],
   "source": [
    "constraints = [(0,1) for i in range(17)]"
   ]
  },
  {
   "cell_type": "code",
   "execution_count": null,
   "metadata": {
    "ExecuteTime": {
     "end_time": "2017-04-27T18:29:08.272517Z",
     "start_time": "2017-04-27T18:29:08.268564Z"
    }
   },
   "outputs": [],
   "source": [
    "constraints"
   ]
  },
  {
   "cell_type": "code",
   "execution_count": null,
   "metadata": {
    "ExecuteTime": {
     "end_time": "2017-04-27T18:49:51.605935Z",
     "start_time": "2017-04-27T18:49:51.355834Z"
    },
    "collapsed": true
   },
   "outputs": [],
   "source": [
    "x1opt = optimize.fmin_l_bfgs_b(f_opt, filter_array, approx_grad = True, bounds=constraints, pgtol=1e-8)"
   ]
  },
  {
   "cell_type": "code",
   "execution_count": null,
   "metadata": {
    "ExecuteTime": {
     "end_time": "2017-04-27T18:49:52.525071Z",
     "start_time": "2017-04-27T18:49:52.521254Z"
    }
   },
   "outputs": [],
   "source": [
    "x1opt"
   ]
  },
  {
   "cell_type": "code",
   "execution_count": null,
   "metadata": {
    "ExecuteTime": {
     "end_time": "2017-04-27T19:01:33.782637Z",
     "start_time": "2017-04-27T19:01:33.780046Z"
    },
    "collapsed": true
   },
   "outputs": [],
   "source": [
    "# Cobyla constraints are build by comparing return value with 0.\n",
    "# They must be >= 0 or be rejected\n",
    "\n",
    "def constr_sup0(x):\n",
    "    return np.min(x)\n",
    "def constr_inf1(x):\n",
    "    return 1 - np.max(x)"
   ]
  },
  {
   "cell_type": "code",
   "execution_count": null,
   "metadata": {
    "ExecuteTime": {
     "end_time": "2017-04-27T19:03:14.600875Z",
     "start_time": "2017-04-27T19:03:01.663322Z"
    }
   },
   "outputs": [],
   "source": [
    "x2opt = optimize.fmin_cobyla(f_opt, filter_array, [constr_sup0,constr_inf1])"
   ]
  },
  {
   "cell_type": "code",
   "execution_count": null,
   "metadata": {
    "ExecuteTime": {
     "end_time": "2017-04-27T19:02:37.608401Z",
     "start_time": "2017-04-27T19:02:37.605496Z"
    }
   },
   "outputs": [],
   "source": [
    "x2opt"
   ]
  },
  {
   "cell_type": "code",
   "execution_count": null,
   "metadata": {
    "ExecuteTime": {
     "end_time": "2017-04-27T19:02:40.291461Z",
     "start_time": "2017-04-27T19:02:40.274503Z"
    }
   },
   "outputs": [],
   "source": [
    "f_opt(x2opt)"
   ]
  },
  {
   "cell_type": "code",
   "execution_count": null,
   "metadata": {
    "ExecuteTime": {
     "end_time": "2017-04-27T19:05:34.080213Z",
     "start_time": "2017-04-27T19:05:34.077869Z"
    },
    "collapsed": true
   },
   "outputs": [],
   "source": [
    "filter_array = np.array([0.02,0.02,0.02,0.02,0.02,0.02,0.02,\n",
    "                        0.02,0.02,0.02,0.02,0.02,0.02,0.02,\n",
    "                        0.02,0.02,0.02])"
   ]
  },
  {
   "cell_type": "code",
   "execution_count": null,
   "metadata": {
    "ExecuteTime": {
     "end_time": "2017-04-27T19:05:53.781851Z",
     "start_time": "2017-04-27T19:05:49.133385Z"
    }
   },
   "outputs": [],
   "source": [
    "x2opt = optimize.fmin_cobyla(f_opt, filter_array, [constr_sup0,constr_inf1])"
   ]
  },
  {
   "cell_type": "code",
   "execution_count": null,
   "metadata": {
    "ExecuteTime": {
     "end_time": "2017-04-27T19:05:55.420565Z",
     "start_time": "2017-04-27T19:05:55.417046Z"
    }
   },
   "outputs": [],
   "source": [
    "x2opt"
   ]
  },
  {
   "cell_type": "code",
   "execution_count": null,
   "metadata": {
    "ExecuteTime": {
     "end_time": "2017-04-27T19:06:20.925156Z",
     "start_time": "2017-04-27T19:06:20.908749Z"
    }
   },
   "outputs": [],
   "source": [
    "f_opt(x2opt)"
   ]
  },
  {
   "cell_type": "code",
   "execution_count": null,
   "metadata": {
    "ExecuteTime": {
     "end_time": "2017-04-27T19:35:59.361462Z",
     "start_time": "2017-04-27T19:35:59.359375Z"
    },
    "collapsed": true
   },
   "outputs": [],
   "source": [
    "thr_0 = np.array([0.2 for i in range(17)])"
   ]
  },
  {
   "cell_type": "code",
   "execution_count": null,
   "metadata": {
    "ExecuteTime": {
     "end_time": "2017-04-27T19:36:01.378288Z",
     "start_time": "2017-04-27T19:36:01.375239Z"
    }
   },
   "outputs": [],
   "source": [
    "thr_0"
   ]
  },
  {
   "cell_type": "markdown",
   "metadata": {
    "collapsed": true
   },
   "source": [
    "# COBYLA is broken and does not respect constraints. coding my own routine"
   ]
  },
  {
   "cell_type": "code",
   "execution_count": 10,
   "metadata": {
    "ExecuteTime": {
     "end_time": "2017-04-29T13:09:28.468022Z",
     "start_time": "2017-04-29T13:09:28.333031Z"
    },
    "collapsed": true
   },
   "outputs": [],
   "source": [
    "import numpy as np\n",
    "from sklearn.metrics import fbeta_score\n"
   ]
  },
  {
   "cell_type": "code",
   "execution_count": 28,
   "metadata": {
    "ExecuteTime": {
     "end_time": "2017-04-29T13:14:18.117522Z",
     "start_time": "2017-04-29T13:14:17.560357Z"
    }
   },
   "outputs": [],
   "source": [
    "true_target = np.loadtxt('true_target.csv').astype(bool)\n",
    "predictions = np.loadtxt('predictions.csv')"
   ]
  },
  {
   "cell_type": "code",
   "execution_count": 29,
   "metadata": {
    "ExecuteTime": {
     "end_time": "2017-04-29T13:14:20.881852Z",
     "start_time": "2017-04-29T13:14:20.867989Z"
    }
   },
   "outputs": [
    {
     "data": {
      "text/plain": [
       "0.87536573504345638"
      ]
     },
     "execution_count": 29,
     "metadata": {},
     "output_type": "execute_result"
    }
   ],
   "source": [
    "fbeta_score(true_target, predictions > 0.2, beta=2, average='samples')"
   ]
  },
  {
   "cell_type": "code",
   "execution_count": null,
   "metadata": {
    "ExecuteTime": {
     "end_time": "2017-04-29T10:30:50.418791Z",
     "start_time": "2017-04-29T10:30:50.415859Z"
    }
   },
   "outputs": [],
   "source": [
    "true_target"
   ]
  },
  {
   "cell_type": "code",
   "execution_count": 2,
   "metadata": {
    "ExecuteTime": {
     "end_time": "2017-04-29T13:08:52.124583Z",
     "start_time": "2017-04-29T13:08:52.107427Z"
    }
   },
   "outputs": [],
   "source": [
    "# True Positive\n",
    "@jit(nopython=True)\n",
    "def true_pos(pred_labels, true_labels):\n",
    "    return np.sum(np.logical_and(pred_labels == 1, true_labels == 1))\n",
    " \n",
    "# True Negative\n",
    "@jit(nopython=True)\n",
    "def true_neg(pred_labels, true_labels):\n",
    "    return np.sum(np.logical_and(pred_labels == 0, true_labels == 0))\n",
    " \n",
    "# False Positive - Type I Error\n",
    "@jit(nopython=True)\n",
    "def false_pos(pred_labels, true_labels):\n",
    "    return np.sum(np.logical_and(pred_labels == 1, true_labels == 0))\n",
    " \n",
    "# False Negative - Type II Error\n",
    "@jit(nopython=True)\n",
    "def false_neg(pred_labels, true_labels):\n",
    "    return np.sum(np.logical_and(pred_labels == 0, true_labels == 1))"
   ]
  },
  {
   "cell_type": "code",
   "execution_count": 169,
   "metadata": {
    "ExecuteTime": {
     "end_time": "2017-04-29T15:03:50.030722Z",
     "start_time": "2017-04-29T15:03:50.022584Z"
    },
    "collapsed": true
   },
   "outputs": [],
   "source": [
    "@jit(nopython=True)\n",
    "def precision(pred_labels, true_labels):\n",
    "    TP = true_pos(pred_labels, true_labels)\n",
    "    FP = false_pos(pred_labels, true_labels)\n",
    "    \n",
    "    # Edge cases True Positives = 0, False negative = 0\n",
    "    # No predicted labels at all\n",
    "    # Shouldn't happen all photos must have at least one label\n",
    "    # We return 0 so that the threshold becomes better\n",
    "    if TP==0 and FP==0: return 0\n",
    "    \n",
    "    return TP / (TP + FP)\n",
    "\n",
    "@jit(nopython=True)\n",
    "def recall(pred_labels, true_labels):\n",
    "    TP = true_pos(pred_labels, true_labels)\n",
    "    FN = false_neg(pred_labels, true_labels)\n",
    "    \n",
    "    # Edge cases True Positives = 0, False negative = 0\n",
    "    # i.e no label in the true_labels input.\n",
    "    # Shouldn't happen  all photos have at least one label\n",
    "\n",
    "    return TP / (TP + FN)"
   ]
  },
  {
   "cell_type": "code",
   "execution_count": 170,
   "metadata": {
    "ExecuteTime": {
     "end_time": "2017-04-29T15:03:54.127164Z",
     "start_time": "2017-04-29T15:03:54.123766Z"
    },
    "collapsed": true
   },
   "outputs": [],
   "source": [
    "@jit(nopython=True)\n",
    "def f2_score_macro(pred_labels, true_labels):\n",
    "    p = precision(pred_labels, true_labels)\n",
    "    r = recall(pred_labels, true_labels)\n",
    "    if p == 0 and r == 0: return 0\n",
    "    return 5 * p * r / (4 * p + r)"
   ]
  },
  {
   "cell_type": "code",
   "execution_count": 258,
   "metadata": {
    "ExecuteTime": {
     "end_time": "2017-04-29T16:11:23.705538Z",
     "start_time": "2017-04-29T16:11:23.703671Z"
    }
   },
   "outputs": [],
   "source": [
    "from numba import jit, float32, boolean"
   ]
  },
  {
   "cell_type": "code",
   "execution_count": 172,
   "metadata": {
    "ExecuteTime": {
     "end_time": "2017-04-29T15:03:56.103588Z",
     "start_time": "2017-04-29T15:03:56.101279Z"
    },
    "collapsed": true
   },
   "outputs": [],
   "source": [
    "def f2_score_mean(pred_labels, true_labels):\n",
    "    return np.mean([f2_score_macro(x,y) for (x,y) in zip(pred_labels,true_labels)])"
   ]
  },
  {
   "cell_type": "code",
   "execution_count": 269,
   "metadata": {
    "ExecuteTime": {
     "end_time": "2017-04-29T16:15:53.002109Z",
     "start_time": "2017-04-29T16:15:52.998790Z"
    }
   },
   "outputs": [],
   "source": [
    "@jit(nopython=True)\n",
    "def f2_score_mean(pred_labels, true_labels):\n",
    "    # Seems like I can't use np.mean on a list within numba ...\n",
    "    # And I can't use list comprehensions as well\n",
    "    # so rolling up my own mean proc\n",
    "    acc = 0\n",
    "    length=true_labels.shape[0]\n",
    "    for i in range(length):\n",
    "        acc += f2_score_macro(pred_labels[i],true_labels[i])\n",
    "    return acc / length"
   ]
  },
  {
   "cell_type": "code",
   "execution_count": 260,
   "metadata": {
    "ExecuteTime": {
     "end_time": "2017-04-29T16:11:31.826179Z",
     "start_time": "2017-04-29T16:11:31.812063Z"
    }
   },
   "outputs": [
    {
     "data": {
      "text/plain": [
       "0.8753657341003418"
      ]
     },
     "execution_count": 260,
     "metadata": {},
     "output_type": "execute_result"
    }
   ],
   "source": [
    "f2_score_mean(predictions > 0.2, true_target)"
   ]
  },
  {
   "cell_type": "code",
   "execution_count": 99,
   "metadata": {
    "ExecuteTime": {
     "end_time": "2017-04-29T14:05:09.330173Z",
     "start_time": "2017-04-29T14:05:09.315816Z"
    }
   },
   "outputs": [
    {
     "data": {
      "text/plain": [
       "0.87536573504345638"
      ]
     },
     "execution_count": 99,
     "metadata": {},
     "output_type": "execute_result"
    }
   ],
   "source": [
    "fbeta_score(true_target, predictions > 0.2, beta=2, average='samples')"
   ]
  },
  {
   "cell_type": "code",
   "execution_count": 100,
   "metadata": {
    "ExecuteTime": {
     "end_time": "2017-04-29T14:05:11.625079Z",
     "start_time": "2017-04-29T14:05:11.619217Z"
    }
   },
   "outputs": [],
   "source": [
    "y = np.array([[0, 0, 0, 0, 0, 0, 0, 0, 1, 0, 1, 0, 1, 0, 0, 1, 0],\n",
    "     [1, 0, 0, 0, 0, 1, 0, 0, 0, 0, 0, 0, 1, 1, 0, 0, 0],\n",
    "     [1, 0, 0, 0, 0, 1, 0, 0, 1, 0, 0, 0, 1, 0, 0, 0, 1],\n",
    "     [0, 0, 0, 0, 0, 1, 0, 0, 0, 0, 0, 0, 1, 1, 1, 0, 0],\n",
    "     [0, 0, 0, 0, 0, 1, 0, 0, 0, 0, 0, 0, 1, 0, 0, 0, 0]])\n",
    "p = np.array([[0, 0, 1, 0, 0, 0, 0, 0, 1, 0, 1, 0, 1, 0, 0, 1, 0],\n",
    "     [1, 0, 0, 0, 0, 1, 0, 0, 0, 1, 0, 0, 0, 1, 0, 0, 0],\n",
    "     [1, 0, 0, 0, 0, 1, 0, 0, 1, 0, 0, 0, 1, 0, 0, 0, 1],\n",
    "     [0, 0, 0, 0, 0, 1, 0, 0, 0, 0, 0, 0, 1, 1, 0, 0, 0],\n",
    "     [0, 0, 0, 1, 0, 1, 0, 0, 0, 0, 0, 0, 1, 0, 0, 0, 0]])"
   ]
  },
  {
   "cell_type": "code",
   "execution_count": 175,
   "metadata": {
    "ExecuteTime": {
     "end_time": "2017-04-29T15:04:08.686859Z",
     "start_time": "2017-04-29T15:04:07.926857Z"
    }
   },
   "outputs": [
    {
     "data": {
      "text/plain": [
       "0.8801891091364776"
      ]
     },
     "execution_count": 175,
     "metadata": {},
     "output_type": "execute_result"
    }
   ],
   "source": [
    "f2_score_mean(p, y)"
   ]
  },
  {
   "cell_type": "code",
   "execution_count": 176,
   "metadata": {
    "ExecuteTime": {
     "end_time": "2017-04-29T15:04:09.544645Z",
     "start_time": "2017-04-29T15:04:09.540564Z"
    }
   },
   "outputs": [
    {
     "data": {
      "text/plain": [
       "0.88018910913647763"
      ]
     },
     "execution_count": 176,
     "metadata": {},
     "output_type": "execute_result"
    }
   ],
   "source": [
    "fbeta_score(y, p, beta=2, average='samples')"
   ]
  },
  {
   "cell_type": "code",
   "execution_count": 103,
   "metadata": {
    "ExecuteTime": {
     "end_time": "2017-04-29T14:05:15.743933Z",
     "start_time": "2017-04-29T14:05:15.730636Z"
    }
   },
   "outputs": [
    {
     "name": "stdout",
     "output_type": "stream",
     "text": [
      "Predicted:  [0 0 1 0 0 0 0 0 1 0 1 0 1 0 0 1 0]\n",
      "Truth:      [0 0 0 0 0 0 0 0 1 0 1 0 1 0 0 1 0]\n",
      "True Positive:  4\n",
      "True Negative:  12\n",
      "False Positive:  1\n",
      "False Negative:  0\n",
      "Precision:  0.8\n",
      "Recall:  1.0\n",
      "My F2 score:  0.9523809523809523\n",
      "Predicted:  [1 0 0 0 0 1 0 0 0 1 0 0 0 1 0 0 0]\n",
      "Truth:      [1 0 0 0 0 1 0 0 0 0 0 0 1 1 0 0 0]\n",
      "True Positive:  3\n",
      "True Negative:  12\n",
      "False Positive:  1\n",
      "False Negative:  1\n",
      "Precision:  0.75\n",
      "Recall:  0.75\n",
      "My F2 score:  0.75\n",
      "Predicted:  [1 0 0 0 0 1 0 0 1 0 0 0 1 0 0 0 1]\n",
      "Truth:      [1 0 0 0 0 1 0 0 1 0 0 0 1 0 0 0 1]\n",
      "True Positive:  5\n",
      "True Negative:  12\n",
      "False Positive:  0\n",
      "False Negative:  0\n",
      "Precision:  1.0\n",
      "Recall:  1.0\n",
      "My F2 score:  1.0\n",
      "Predicted:  [0 0 0 0 0 1 0 0 0 0 0 0 1 1 0 0 0]\n",
      "Truth:      [0 0 0 0 0 1 0 0 0 0 0 0 1 1 1 0 0]\n",
      "True Positive:  3\n",
      "True Negative:  13\n",
      "False Positive:  0\n",
      "False Negative:  1\n",
      "Precision:  1.0\n",
      "Recall:  0.75\n",
      "My F2 score:  0.7894736842105263\n",
      "Predicted:  [0 0 0 1 0 1 0 0 0 0 0 0 1 0 0 0 0]\n",
      "Truth:      [0 0 0 0 0 1 0 0 0 0 0 0 1 0 0 0 0]\n",
      "True Positive:  2\n",
      "True Negative:  14\n",
      "False Positive:  1\n",
      "False Negative:  0\n",
      "Precision:  0.6666666666666666\n",
      "Recall:  1.0\n",
      "My F2 score:  0.9090909090909091\n"
     ]
    }
   ],
   "source": [
    "for i in range(5):\n",
    "    print(\"Predicted: \", p[i])\n",
    "    print(\"Truth:     \", y[i])\n",
    "    print(\"True Positive: \", true_pos(p[i],y[i]))\n",
    "    print(\"True Negative: \", true_neg(p[i],y[i]))\n",
    "    print(\"False Positive: \", false_pos(p[i],y[i]))\n",
    "    print(\"False Negative: \", false_neg(p[i],y[i]))\n",
    "    print(\"Precision: \", precision(p[i],y[i]))\n",
    "    print(\"Recall: \", recall(p[i],y[i]))\n",
    "    print(\"My F2 score: \", f2_score_macro(p[i],y[i]))\n",
    "    # print(\" Scikit F2 score\", fbeta_score(y[i], p[i], beta=2, average='samples'))"
   ]
  },
  {
   "cell_type": "code",
   "execution_count": 104,
   "metadata": {
    "ExecuteTime": {
     "end_time": "2017-04-29T14:05:21.621338Z",
     "start_time": "2017-04-29T14:05:21.619146Z"
    }
   },
   "outputs": [],
   "source": [
    "tp = true_pos(p[0],y[0])"
   ]
  },
  {
   "cell_type": "code",
   "execution_count": 105,
   "metadata": {
    "ExecuteTime": {
     "end_time": "2017-04-29T14:05:21.991347Z",
     "start_time": "2017-04-29T14:05:21.989286Z"
    }
   },
   "outputs": [],
   "source": [
    "fp = false_pos(p[0],y[0])"
   ]
  },
  {
   "cell_type": "code",
   "execution_count": 106,
   "metadata": {
    "ExecuteTime": {
     "end_time": "2017-04-29T14:05:22.648153Z",
     "start_time": "2017-04-29T14:05:22.645318Z"
    }
   },
   "outputs": [
    {
     "data": {
      "text/plain": [
       "0.8"
      ]
     },
     "execution_count": 106,
     "metadata": {},
     "output_type": "execute_result"
    }
   ],
   "source": [
    "tp / (tp + fp)"
   ]
  },
  {
   "cell_type": "code",
   "execution_count": 122,
   "metadata": {
    "ExecuteTime": {
     "end_time": "2017-04-29T14:08:21.228254Z",
     "start_time": "2017-04-29T14:08:20.716546Z"
    },
    "collapsed": true
   },
   "outputs": [],
   "source": [
    "true_target = np.loadtxt('true_target.csv').astype(bool)\n",
    "predictions = np.loadtxt('predictions.csv')"
   ]
  },
  {
   "cell_type": "code",
   "execution_count": 123,
   "metadata": {
    "ExecuteTime": {
     "end_time": "2017-04-29T14:08:22.606065Z",
     "start_time": "2017-04-29T14:08:22.555797Z"
    }
   },
   "outputs": [
    {
     "data": {
      "text/plain": [
       "0.8753657350434407"
      ]
     },
     "execution_count": 123,
     "metadata": {},
     "output_type": "execute_result"
    }
   ],
   "source": [
    "f2_score_mean(predictions>0.2,true_target)"
   ]
  },
  {
   "cell_type": "code",
   "execution_count": 124,
   "metadata": {
    "ExecuteTime": {
     "end_time": "2017-04-29T14:08:50.948725Z",
     "start_time": "2017-04-29T14:08:50.934834Z"
    }
   },
   "outputs": [
    {
     "data": {
      "text/plain": [
       "0.87536573504345638"
      ]
     },
     "execution_count": 124,
     "metadata": {},
     "output_type": "execute_result"
    }
   ],
   "source": [
    "fbeta_score(true_target, predictions > 0.2, beta=2, average='samples')"
   ]
  },
  {
   "cell_type": "code",
   "execution_count": 132,
   "metadata": {
    "ExecuteTime": {
     "end_time": "2017-04-29T14:35:26.787012Z",
     "start_time": "2017-04-29T14:35:26.783352Z"
    }
   },
   "outputs": [
    {
     "data": {
      "text/plain": [
       "array([[False, False, False, ..., False, False, False],\n",
       "       [ True, False, False, ..., False, False, False],\n",
       "       [ True, False, False, ..., False, False, False],\n",
       "       ..., \n",
       "       [False, False, False, ..., False, False, False],\n",
       "       [False, False, False, ..., False, False, False],\n",
       "       [False, False, False, ..., False, False, False]], dtype=bool)"
      ]
     },
     "execution_count": 132,
     "metadata": {},
     "output_type": "execute_result"
    }
   ],
   "source": [
    "true_target"
   ]
  },
  {
   "cell_type": "code",
   "execution_count": 133,
   "metadata": {
    "ExecuteTime": {
     "end_time": "2017-04-29T14:35:42.593196Z",
     "start_time": "2017-04-29T14:35:42.589556Z"
    }
   },
   "outputs": [
    {
     "data": {
      "text/plain": [
       "array([[False, False, False, ..., False, False, False],\n",
       "       [ True, False, False, ..., False, False, False],\n",
       "       [ True, False, False, ..., False, False, False],\n",
       "       ..., \n",
       "       [False, False, False, ..., False, False, False],\n",
       "       [False, False, False, ..., False, False, False],\n",
       "       [False, False, False, ..., False, False, False]], dtype=bool)"
      ]
     },
     "execution_count": 133,
     "metadata": {},
     "output_type": "execute_result"
    }
   ],
   "source": [
    "predictions > 0.2"
   ]
  },
  {
   "cell_type": "code",
   "execution_count": 177,
   "metadata": {
    "ExecuteTime": {
     "end_time": "2017-04-29T15:04:23.020042Z",
     "start_time": "2017-04-29T15:04:23.014627Z"
    },
    "collapsed": true
   },
   "outputs": [],
   "source": [
    "def search_best_threshold(p_valid, y_valid, try_all=False, verbose=False):\n",
    "    p_valid, y_valid = np.array(p_valid), np.array(y_valid)\n",
    "\n",
    "    best = 0\n",
    "    best_score = -1\n",
    "    totry = np.arange(0,1,0.005) if try_all is False else np.unique(p_valid)\n",
    "    for t in totry:\n",
    "        score = f2_score_mean(p_valid > t, y_valid)\n",
    "        if score > best_score:\n",
    "            best_score = score\n",
    "            best = t\n",
    "    if verbose is True: \n",
    "        print('Best score: ', round(best_score, 5), ' @ threshold =', best)\n",
    "\n",
    "    return best"
   ]
  },
  {
   "cell_type": "code",
   "execution_count": 178,
   "metadata": {
    "ExecuteTime": {
     "end_time": "2017-04-29T15:04:26.009188Z",
     "start_time": "2017-04-29T15:04:23.901439Z"
    }
   },
   "outputs": [
    {
     "name": "stdout",
     "output_type": "stream",
     "text": [
      "CPU times: user 2.1 s, sys: 0 ns, total: 2.1 s\n",
      "Wall time: 2.1 s\n"
     ]
    },
    {
     "data": {
      "text/plain": [
       "0.17999999999999999"
      ]
     },
     "execution_count": 178,
     "metadata": {},
     "output_type": "execute_result"
    }
   ],
   "source": [
    "%time search_best_threshold(predictions, true_target)"
   ]
  },
  {
   "cell_type": "code",
   "execution_count": 149,
   "metadata": {
    "ExecuteTime": {
     "end_time": "2017-04-29T14:42:55.260030Z",
     "start_time": "2017-04-29T14:42:55.254293Z"
    },
    "collapsed": true
   },
   "outputs": [],
   "source": [
    "def find_f2score_threshold(p_valid, y_valid, try_all=False, verbose=False):\n",
    "    p_valid, y_valid = np.array(p_valid), np.array(y_valid)\n",
    "\n",
    "    best = 0\n",
    "    best_score = -1\n",
    "    totry = np.arange(0,1,0.005) if try_all is False else np.unique(p_valid)\n",
    "    for t in totry:\n",
    "        score = fbeta_score(y_valid, p_valid > t, beta=2, average='samples')\n",
    "        if score > best_score:\n",
    "            best_score = score\n",
    "            best = t\n",
    "    if verbose is True: \n",
    "        print('Best score: ', round(best_score, 5), ' @ threshold =', best)\n",
    "\n",
    "    return best"
   ]
  },
  {
   "cell_type": "code",
   "execution_count": 150,
   "metadata": {
    "ExecuteTime": {
     "end_time": "2017-04-29T14:43:22.664167Z",
     "start_time": "2017-04-29T14:43:20.728772Z"
    }
   },
   "outputs": [
    {
     "name": "stderr",
     "output_type": "stream",
     "text": [
      "/usr/lib/python3.6/site-packages/sklearn/metrics/classification.py:1113: UndefinedMetricWarning: F-score is ill-defined and being set to 0.0 in samples with no predicted labels.\n",
      "  'precision', 'predicted', average, warn_for)\n"
     ]
    },
    {
     "name": "stdout",
     "output_type": "stream",
     "text": [
      "CPU times: user 1.93 s, sys: 0 ns, total: 1.93 s\n",
      "Wall time: 1.93 s\n"
     ]
    },
    {
     "data": {
      "text/plain": [
       "0.17999999999999999"
      ]
     },
     "execution_count": 150,
     "metadata": {},
     "output_type": "execute_result"
    }
   ],
   "source": [
    "%time find_f2score_threshold(predictions, true_target)"
   ]
  },
  {
   "cell_type": "code",
   "execution_count": 181,
   "metadata": {
    "ExecuteTime": {
     "end_time": "2017-04-29T15:05:55.525127Z",
     "start_time": "2017-04-29T15:05:55.510479Z"
    }
   },
   "outputs": [
    {
     "name": "stdout",
     "output_type": "stream",
     "text": [
      "CPU times: user 8 ms, sys: 4 ms, total: 12 ms\n",
      "Wall time: 11.1 ms\n"
     ]
    },
    {
     "data": {
      "text/plain": [
       "0.8753657350434407"
      ]
     },
     "execution_count": 181,
     "metadata": {},
     "output_type": "execute_result"
    }
   ],
   "source": [
    "%time f2_score_mean(predictions>0.2,true_target)"
   ]
  },
  {
   "cell_type": "code",
   "execution_count": 182,
   "metadata": {
    "ExecuteTime": {
     "end_time": "2017-04-29T15:05:56.837235Z",
     "start_time": "2017-04-29T15:05:56.823331Z"
    }
   },
   "outputs": [
    {
     "name": "stdout",
     "output_type": "stream",
     "text": [
      "CPU times: user 8 ms, sys: 4 ms, total: 12 ms\n",
      "Wall time: 10.8 ms\n"
     ]
    },
    {
     "data": {
      "text/plain": [
       "0.87536573504345638"
      ]
     },
     "execution_count": 182,
     "metadata": {},
     "output_type": "execute_result"
    }
   ],
   "source": [
    "%time fbeta_score(true_target, predictions > 0.2, beta=2, average='samples')"
   ]
  },
  {
   "cell_type": "code",
   "execution_count": 207,
   "metadata": {
    "ExecuteTime": {
     "end_time": "2017-04-29T15:14:56.160792Z",
     "start_time": "2017-04-29T15:14:56.158757Z"
    },
    "collapsed": true
   },
   "outputs": [],
   "source": [
    "from numba import float32"
   ]
  },
  {
   "cell_type": "code",
   "execution_count": 279,
   "metadata": {
    "ExecuteTime": {
     "end_time": "2017-04-29T16:24:22.071040Z",
     "start_time": "2017-04-29T16:24:22.062863Z"
    },
    "code_folding": [],
    "collapsed": true
   },
   "outputs": [],
   "source": [
    "@jit(nopython=True)\n",
    "def sbt(predictions, true_labels, thresholds = np.arange(0.0,1,0.005,dtype=np.float)):\n",
    "    ## For each column we search the threshold that maximize the fscore for that column\n",
    "    ## We are forced to loop on column and rows because we use f2 average of each row\n",
    "    \n",
    "    new_f2 = 0.\n",
    "    best_score = 0.\n",
    "    best_threshold = np.zeros(predictions.shape[1])\n",
    "    \n",
    "    for i in range(true_labels.shape[1]):\n",
    "        y_proba = predictions[:,i]\n",
    "        for j in thresholds:\n",
    "            y_pred = y_proba >= j\n",
    "            \n",
    "            # We can maximize f2 for a column\n",
    "            # On 1D array f2_score_macro and mean have same result\n",
    "            new_f2 = f2_score_macro(y_pred,true_labels[:,i])\n",
    "            \n",
    "            if new_f2 > best_score:\n",
    "                best_threshold[i] = j\n",
    "        best_score = 0.\n",
    "    \n",
    "    return best_threshold"
   ]
  },
  {
   "cell_type": "code",
   "execution_count": 280,
   "metadata": {
    "ExecuteTime": {
     "end_time": "2017-04-29T16:24:23.533103Z",
     "start_time": "2017-04-29T16:24:23.054276Z"
    }
   },
   "outputs": [],
   "source": [
    "thr = sbt(predictions, true_target)"
   ]
  },
  {
   "cell_type": "code",
   "execution_count": 281,
   "metadata": {
    "ExecuteTime": {
     "end_time": "2017-04-29T16:24:24.521376Z",
     "start_time": "2017-04-29T16:24:24.518004Z"
    }
   },
   "outputs": [
    {
     "data": {
      "text/plain": [
       "array([ 0.995,  0.89 ,  0.79 ,  0.14 ,  0.015,  0.995,  0.99 ,  0.115,\n",
       "        0.99 ,  0.995,  0.975,  0.995,  0.995,  0.995,  0.08 ,  0.045,\n",
       "        0.995])"
      ]
     },
     "execution_count": 281,
     "metadata": {},
     "output_type": "execute_result"
    }
   ],
   "source": [
    "thr"
   ]
  },
  {
   "cell_type": "code",
   "execution_count": 277,
   "metadata": {
    "ExecuteTime": {
     "end_time": "2017-04-29T16:22:38.984217Z",
     "start_time": "2017-04-29T16:22:38.971394Z"
    }
   },
   "outputs": [
    {
     "name": "stderr",
     "output_type": "stream",
     "text": [
      "/usr/lib/python3.6/site-packages/sklearn/metrics/classification.py:1113: UndefinedMetricWarning: F-score is ill-defined and being set to 0.0 in samples with no predicted labels.\n",
      "  'precision', 'predicted', average, warn_for)\n"
     ]
    },
    {
     "data": {
      "text/plain": [
       "0.23955001672841636"
      ]
     },
     "execution_count": 277,
     "metadata": {},
     "output_type": "execute_result"
    }
   ],
   "source": [
    "fbeta_score(true_target, predictions > thr, beta=2, average='samples')"
   ]
  },
  {
   "cell_type": "code",
   "execution_count": 274,
   "metadata": {
    "ExecuteTime": {
     "end_time": "2017-04-29T16:20:51.658684Z",
     "start_time": "2017-04-29T16:20:51.655356Z"
    }
   },
   "outputs": [
    {
     "data": {
      "text/plain": [
       "array([[False, False, False, ..., False, False, False],\n",
       "       [ True, False, False, ..., False, False, False],\n",
       "       [False, False, False, ..., False, False, False],\n",
       "       ..., \n",
       "       [False, False, False, ..., False, False, False],\n",
       "       [False, False, False, ..., False, False, False],\n",
       "       [False, False, False, ..., False, False, False]], dtype=bool)"
      ]
     },
     "execution_count": 274,
     "metadata": {},
     "output_type": "execute_result"
    }
   ],
   "source": [
    "predictions > thr"
   ]
  },
  {
   "cell_type": "code",
   "execution_count": 282,
   "metadata": {
    "ExecuteTime": {
     "end_time": "2017-04-29T19:41:10.435560Z",
     "start_time": "2017-04-29T19:41:10.421582Z"
    },
    "collapsed": true
   },
   "outputs": [],
   "source": [
    "import nlopt"
   ]
  },
  {
   "cell_type": "code",
   "execution_count": 290,
   "metadata": {
    "ExecuteTime": {
     "end_time": "2017-04-29T19:53:44.476905Z",
     "start_time": "2017-04-29T19:53:44.474809Z"
    }
   },
   "outputs": [],
   "source": [
    "def f2_thresh_opt(threshold, grad):\n",
    "    f2_score_mean(predictions>threshold,true_target)"
   ]
  },
  {
   "cell_type": "code",
   "execution_count": 291,
   "metadata": {
    "ExecuteTime": {
     "end_time": "2017-04-29T19:53:50.773219Z",
     "start_time": "2017-04-29T19:53:50.771260Z"
    },
    "collapsed": true
   },
   "outputs": [],
   "source": [
    "opt = nlopt.opt(nlopt.LN_COBYLA, 17) # dimensionality 17"
   ]
  },
  {
   "cell_type": "code",
   "execution_count": 292,
   "metadata": {
    "ExecuteTime": {
     "end_time": "2017-04-29T19:53:51.314424Z",
     "start_time": "2017-04-29T19:53:51.311936Z"
    },
    "collapsed": true
   },
   "outputs": [],
   "source": [
    "opt.set_max_objective(f2_thresh_opt)"
   ]
  },
  {
   "cell_type": "code",
   "execution_count": 293,
   "metadata": {
    "ExecuteTime": {
     "end_time": "2017-04-29T19:53:52.325563Z",
     "start_time": "2017-04-29T19:53:52.323038Z"
    },
    "collapsed": true
   },
   "outputs": [],
   "source": [
    "opt.set_lower_bounds(np.zeros(17))"
   ]
  },
  {
   "cell_type": "code",
   "execution_count": 294,
   "metadata": {
    "ExecuteTime": {
     "end_time": "2017-04-29T19:53:53.210543Z",
     "start_time": "2017-04-29T19:53:53.207943Z"
    },
    "collapsed": true
   },
   "outputs": [],
   "source": [
    "opt.set_upper_bounds(np.ones(17))"
   ]
  },
  {
   "cell_type": "code",
   "execution_count": 296,
   "metadata": {
    "ExecuteTime": {
     "end_time": "2017-04-29T19:54:20.783540Z",
     "start_time": "2017-04-29T19:54:20.781381Z"
    },
    "collapsed": true
   },
   "outputs": [],
   "source": [
    "a = np.array([0.2 for i in range(17)])"
   ]
  },
  {
   "cell_type": "code",
   "execution_count": 297,
   "metadata": {
    "ExecuteTime": {
     "end_time": "2017-04-29T19:54:25.592651Z",
     "start_time": "2017-04-29T19:54:25.576252Z"
    }
   },
   "outputs": [
    {
     "ename": "ValueError",
     "evalue": "nlopt invalid argument",
     "output_type": "error",
     "traceback": [
      "\u001b[0;31m---------------------------------------------------------------------------\u001b[0m",
      "\u001b[0;31mValueError\u001b[0m                                Traceback (most recent call last)",
      "\u001b[0;32m<ipython-input-297-d04e4571ced2>\u001b[0m in \u001b[0;36m<module>\u001b[0;34m()\u001b[0m\n\u001b[0;32m----> 1\u001b[0;31m \u001b[0mopt\u001b[0m\u001b[0;34m.\u001b[0m\u001b[0moptimize\u001b[0m\u001b[0;34m(\u001b[0m\u001b[0ma\u001b[0m\u001b[0;34m)\u001b[0m\u001b[0;34m\u001b[0m\u001b[0m\n\u001b[0m",
      "\u001b[0;32m/usr/lib/python3.6/site-packages/nlopt.py\u001b[0m in \u001b[0;36moptimize\u001b[0;34m(self, *args)\u001b[0m\n\u001b[1;32m    258\u001b[0m         \u001b[0;32mtry\u001b[0m\u001b[0;34m:\u001b[0m \u001b[0mself\u001b[0m\u001b[0;34m.\u001b[0m\u001b[0mthis\u001b[0m\u001b[0;34m.\u001b[0m\u001b[0mappend\u001b[0m\u001b[0;34m(\u001b[0m\u001b[0mthis\u001b[0m\u001b[0;34m)\u001b[0m\u001b[0;34m\u001b[0m\u001b[0m\n\u001b[1;32m    259\u001b[0m         \u001b[0;32mexcept\u001b[0m\u001b[0;34m:\u001b[0m \u001b[0mself\u001b[0m\u001b[0;34m.\u001b[0m\u001b[0mthis\u001b[0m \u001b[0;34m=\u001b[0m \u001b[0mthis\u001b[0m\u001b[0;34m\u001b[0m\u001b[0m\n\u001b[0;32m--> 260\u001b[0;31m     \u001b[0;32mdef\u001b[0m \u001b[0moptimize\u001b[0m\u001b[0;34m(\u001b[0m\u001b[0mself\u001b[0m\u001b[0;34m,\u001b[0m \u001b[0;34m*\u001b[0m\u001b[0margs\u001b[0m\u001b[0;34m)\u001b[0m\u001b[0;34m:\u001b[0m \u001b[0;32mreturn\u001b[0m \u001b[0m_nlopt\u001b[0m\u001b[0;34m.\u001b[0m\u001b[0mopt_optimize\u001b[0m\u001b[0;34m(\u001b[0m\u001b[0mself\u001b[0m\u001b[0;34m,\u001b[0m \u001b[0;34m*\u001b[0m\u001b[0margs\u001b[0m\u001b[0;34m)\u001b[0m\u001b[0;34m\u001b[0m\u001b[0m\n\u001b[0m\u001b[1;32m    261\u001b[0m     \u001b[0;32mdef\u001b[0m \u001b[0mlast_optimize_result\u001b[0m\u001b[0;34m(\u001b[0m\u001b[0mself\u001b[0m\u001b[0;34m)\u001b[0m\u001b[0;34m:\u001b[0m \u001b[0;32mreturn\u001b[0m \u001b[0m_nlopt\u001b[0m\u001b[0;34m.\u001b[0m\u001b[0mopt_last_optimize_result\u001b[0m\u001b[0;34m(\u001b[0m\u001b[0mself\u001b[0m\u001b[0;34m)\u001b[0m\u001b[0;34m\u001b[0m\u001b[0m\n\u001b[1;32m    262\u001b[0m     \u001b[0;32mdef\u001b[0m \u001b[0mlast_optimum_value\u001b[0m\u001b[0;34m(\u001b[0m\u001b[0mself\u001b[0m\u001b[0;34m)\u001b[0m\u001b[0;34m:\u001b[0m \u001b[0;32mreturn\u001b[0m \u001b[0m_nlopt\u001b[0m\u001b[0;34m.\u001b[0m\u001b[0mopt_last_optimum_value\u001b[0m\u001b[0;34m(\u001b[0m\u001b[0mself\u001b[0m\u001b[0;34m)\u001b[0m\u001b[0;34m\u001b[0m\u001b[0m\n",
      "\u001b[0;31mValueError\u001b[0m: nlopt invalid argument"
     ]
    }
   ],
   "source": [
    "opt.optimize(a)"
   ]
  },
  {
   "cell_type": "code",
   "execution_count": null,
   "metadata": {
    "collapsed": true
   },
   "outputs": [],
   "source": []
  }
 ],
 "metadata": {
  "kernelspec": {
   "display_name": "Python 3",
   "language": "python",
   "name": "python3"
  },
  "language_info": {
   "codemirror_mode": {
    "name": "ipython",
    "version": 3
   },
   "file_extension": ".py",
   "mimetype": "text/x-python",
   "name": "python",
   "nbconvert_exporter": "python",
   "pygments_lexer": "ipython3",
   "version": "3.6.0"
  }
 },
 "nbformat": 4,
 "nbformat_minor": 2
}
