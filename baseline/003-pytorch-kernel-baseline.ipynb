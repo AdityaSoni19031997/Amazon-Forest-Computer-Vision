{
 "cells": [
  {
   "cell_type": "markdown",
   "metadata": {
    "_cell_guid": "82cb34f6-d7d9-5938-c2f9-2b231d073c04"
   },
   "source": [
    "# Starting kit for PyTorch Deep Learning\n",
    "\n",
    "Welcome to this tutorial to get started on PyTorch for this competition.\n",
    "PyTorch is a promising port of Facebook's Torch to Python.\n",
    "\n",
    "It's only 3 months old but has an already promising feature set.\n",
    "Unfortunately it's very very raw, and I had a lot of troubles to get started with very basic things:\n",
    "- data loading\n",
    "- building a basic CNN\n",
    "- training\n",
    "\n",
    "Hopefully this will help you getting started using PyTorch on this dataset."
   ]
  },
  {
   "cell_type": "markdown",
   "metadata": {
    "_cell_guid": "3763a794-0a61-f0ab-9215-56de74bf29df"
   },
   "source": [
    "## Importing libraries\n",
    "Please note that we do not import numpy but PyTorch wrapper for Numpy"
   ]
  },
  {
   "cell_type": "code",
   "execution_count": 1,
   "metadata": {
    "ExecuteTime": {
     "end_time": "2017-04-25T21:15:49.566831Z",
     "start_time": "2017-04-25T21:15:49.179045Z"
    },
    "_cell_guid": "f3ee9f39-55e1-ee69-2bb6-25c095155e1d",
    "collapsed": true
   },
   "outputs": [],
   "source": [
    "import pandas as pd\n",
    "from torch import np # Torch wrapper for Numpy\n",
    "\n",
    "import os\n",
    "from PIL import Image\n",
    "\n",
    "import torch\n",
    "from torch.utils.data.dataset import Dataset\n",
    "from torch.utils.data import DataLoader\n",
    "from torchvision import transforms\n",
    "from torch import nn\n",
    "import torch.nn.functional as F\n",
    "import torch.optim as optim\n",
    "from torch.autograd import Variable\n",
    "\n",
    "from sklearn.preprocessing import MultiLabelBinarizer"
   ]
  },
  {
   "cell_type": "markdown",
   "metadata": {
    "_cell_guid": "e6fde4f7-e8f3-3782-673a-62ce72b652fa"
   },
   "source": [
    "## Setting up global variables"
   ]
  },
  {
   "cell_type": "code",
   "execution_count": 2,
   "metadata": {
    "ExecuteTime": {
     "end_time": "2017-04-25T21:15:49.570687Z",
     "start_time": "2017-04-25T21:15:49.568053Z"
    },
    "_cell_guid": "45d63034-a44c-47e8-7376-2deb00af03a9",
    "collapsed": true
   },
   "outputs": [],
   "source": [
    "IMG_PATH = '../data/train-jpg/'\n",
    "IMG_EXT = '.jpg'\n",
    "TRAIN_DATA = '../data/train.csv'"
   ]
  },
  {
   "cell_type": "markdown",
   "metadata": {
    "_cell_guid": "1aa8e64e-f2eb-f570-bfd3-6098638c5f40"
   },
   "source": [
    "## Loading the data - first part - DataSet\n",
    "\n",
    "This is probably the most obscure part of PyTorch. Most examples use well known datasets (MNIST ...) and have a custom loader or forces you to have a specific folder structure similar to this:\n",
    "\n",
    "* data\n",
    "    * train\n",
    "          * dogs\n",
    "          * cats\n",
    "     * validation\n",
    "          * dogs\n",
    "          * cats\n",
    "     * test\n",
    "          * test\n",
    "\n",
    "Data loading in PyTorch is in 2 parts\n",
    "\n",
    "First the data must be wrapped in a __Dataset__ class with a getitem method that from an index return X_train[index] and y_train[index] and a length method. A Dataset is basically a data storage.\n",
    "\n",
    "The following solution loads the image name from a CSV and file path + extension and can be adapted easily for most Kaggle challenges. You won't have to write your own ;).\n",
    "\n",
    "The code will:\n",
    "\n",
    "- Check that all images in CSV exist in the folder\n",
    "- Use ScikitLearn MultiLabelBinarizer to OneHotEncode the labels, mlb.inverse_transform(predictions) can be used to get back the textual labels from the predictions\n",
    "- Apply PIL transformations to the images. See [here](http://pytorch.org/docs/torchvision/transforms.html) for the supported list.\n",
    "- Use ToTensor() to convert from an image with color scale 0-255 to a Tensor with color scale 0-1.\n",
    "\n",
    "Note: We use PIL instead of OpenCV because it's Torch default image loader and is compatible with `ToTensor()` method. An fast loader called accimage is currently in development and was published 3 days ago [here](https://github.com/pytorch/accimage).\n",
    "\n",
    "Note 2: This only provides a mapping to the data, **the data is not loaded in memory at this point**. The next part will show you how to load only what is needed for the batch in memory. This is a huge advantage compared to kernels that must load all images at once."
   ]
  },
  {
   "cell_type": "code",
   "execution_count": 3,
   "metadata": {
    "ExecuteTime": {
     "end_time": "2017-04-25T21:15:49.584068Z",
     "start_time": "2017-04-25T21:15:49.572082Z"
    },
    "_cell_guid": "08a005ca-d963-5434-d60d-72d399cb7fe3",
    "collapsed": true
   },
   "outputs": [],
   "source": [
    "class KaggleAmazonDataset(Dataset):\n",
    "    \"\"\"Dataset wrapping images and target labels for Kaggle - Planet Amazon from Space competition.\n",
    "\n",
    "    Arguments:\n",
    "        A CSV file path\n",
    "        Path to image folder\n",
    "        Extension of images\n",
    "        PIL transforms\n",
    "    \"\"\"\n",
    "\n",
    "    def __init__(self, csv_path, img_path, img_ext, transform=None):\n",
    "    \n",
    "        tmp_df = pd.read_csv(csv_path)\n",
    "        assert tmp_df['image_name'].apply(lambda x: os.path.isfile(img_path + x + img_ext)).all(), \\\n",
    "\"Some images referenced in the CSV file were not found\"\n",
    "        \n",
    "        self.mlb = MultiLabelBinarizer()\n",
    "        self.img_path = img_path\n",
    "        self.img_ext = img_ext\n",
    "        self.transform = transform\n",
    "\n",
    "        self.X_train = tmp_df['image_name']\n",
    "        self.y_train = self.mlb.fit_transform(tmp_df['tags'].str.split()).astype(np.float32)\n",
    "\n",
    "    def __getitem__(self, index):\n",
    "        img = Image.open(self.img_path + self.X_train[index] + self.img_ext)\n",
    "        img = img.convert('RGB')\n",
    "        if self.transform is not None:\n",
    "            img = self.transform(img)\n",
    "        \n",
    "        label = torch.from_numpy(self.y_train[index])\n",
    "        return img, label\n",
    "\n",
    "    def __len__(self):\n",
    "        return len(self.X_train.index)"
   ]
  },
  {
   "cell_type": "code",
   "execution_count": 4,
   "metadata": {
    "ExecuteTime": {
     "end_time": "2017-04-25T21:15:49.784282Z",
     "start_time": "2017-04-25T21:15:49.585273Z"
    },
    "_cell_guid": "98a20a0b-d39e-21a6-232b-990e916f6756",
    "collapsed": true
   },
   "outputs": [],
   "source": [
    "transformations = transforms.Compose([transforms.Scale(32),transforms.ToTensor()])\n",
    "\n",
    "dset_train = KaggleAmazonDataset(TRAIN_DATA,IMG_PATH,IMG_EXT,transformations)"
   ]
  },
  {
   "cell_type": "markdown",
   "metadata": {
    "_cell_guid": "2db00aac-0fb9-a1ab-1687-f373875de6bb"
   },
   "source": [
    "## Loading the data - second part - DataLoader\n",
    "\n",
    "As was said, loading the data is in 2 parts, we provided PyTorch with a data storage, and we have to tell it how to load it. This is done with __DataLoader__\n",
    "\n",
    "The DataLoader defines how you retrieve the images + labels from the dataset. You can tell it to:\n",
    "\n",
    "* Set the batch size.\n",
    "* Shuffle and sample the data randomly, hence implementing __train_test_split__ (check SubsetRandomSampler [here](http://pytorch.org/docs/data.html?highlight=sampler))\n",
    "* Improve performance by loading data via  separate thread `num_worker` and using `pin_memory` for CUDA. Documentation [here](http://pytorch.org/docs/notes/cuda.html?highlight=dataloader)."
   ]
  },
  {
   "cell_type": "code",
   "execution_count": 5,
   "metadata": {
    "ExecuteTime": {
     "end_time": "2017-04-25T21:15:49.787999Z",
     "start_time": "2017-04-25T21:15:49.785741Z"
    },
    "_cell_guid": "a2d57750-80fc-c8fe-9640-f276681f5549",
    "collapsed": true
   },
   "outputs": [],
   "source": [
    "train_loader = DataLoader(dset_train,\n",
    "                          batch_size=256,\n",
    "                          shuffle=True,\n",
    "                          num_workers=4 # 1 for CUDA\n",
    "                         # pin_memory=True # CUDA only\n",
    "                         )"
   ]
  },
  {
   "cell_type": "markdown",
   "metadata": {
    "_cell_guid": "1a27f04f-d260-46ec-698b-21aba8631f71"
   },
   "source": [
    "## Creating your Neural Network\n",
    "\n",
    "This is tricky, you need  to compute yourself the in_channels and out_channels of your filters hence the 2304 input for the Dense layer. The first input 3 corresponds to the number of channels of your image, the 17 output corresponds to the number of target labels."
   ]
  },
  {
   "cell_type": "code",
   "execution_count": 6,
   "metadata": {
    "ExecuteTime": {
     "end_time": "2017-04-25T21:15:51.046117Z",
     "start_time": "2017-04-25T21:15:49.789400Z"
    },
    "_cell_guid": "c9a86c3d-b977-856a-7b71-5bf0cd509691",
    "collapsed": true
   },
   "outputs": [],
   "source": [
    "class Net(nn.Module):\n",
    "    def __init__(self):\n",
    "        super(Net, self).__init__()\n",
    "        self.conv1 = nn.Conv2d(3, 32, kernel_size=3)\n",
    "        self.conv2 = nn.Conv2d(32, 64, kernel_size=3)\n",
    "        self.conv2_drop = nn.Dropout2d()\n",
    "        self.fc1 = nn.Linear(2304, 256)\n",
    "        self.fc2 = nn.Linear(256, 17)\n",
    "\n",
    "    def forward(self, x):\n",
    "        x = F.relu(F.max_pool2d(self.conv1(x), 2))\n",
    "        x = F.relu(F.max_pool2d(self.conv2_drop(self.conv2(x)), 2))\n",
    "        x = x.view(x.size(0), -1) # Flatten layer\n",
    "        x = F.relu(self.fc1(x))\n",
    "        x = F.dropout(x, training=self.training)\n",
    "        x = self.fc2(x)\n",
    "        return F.sigmoid(x)\n",
    "\n",
    "# model = Net() # On CPU\n",
    "model = Net().cuda() # On GPU"
   ]
  },
  {
   "cell_type": "markdown",
   "metadata": {
    "_cell_guid": "51e51a88-e8fc-467c-98cd-cab80f5e8679"
   },
   "source": [
    "## Defining your training function"
   ]
  },
  {
   "cell_type": "code",
   "execution_count": 7,
   "metadata": {
    "ExecuteTime": {
     "end_time": "2017-04-25T21:15:51.050255Z",
     "start_time": "2017-04-25T21:15:51.047755Z"
    },
    "_cell_guid": "7c18ddb7-cd5a-86d3-b3b9-4c6bc467e7ea",
    "collapsed": true
   },
   "outputs": [],
   "source": [
    "optimizer = optim.SGD(model.parameters(), lr=0.01, momentum=0.5)"
   ]
  },
  {
   "cell_type": "code",
   "execution_count": 8,
   "metadata": {
    "ExecuteTime": {
     "end_time": "2017-04-25T21:15:51.057388Z",
     "start_time": "2017-04-25T21:15:51.051613Z"
    },
    "_cell_guid": "745377b3-d942-a03a-76a9-e27cce51e01d",
    "collapsed": true
   },
   "outputs": [],
   "source": [
    "def train(epoch):\n",
    "    model.train()\n",
    "    for batch_idx, (data, target) in enumerate(train_loader):\n",
    "        data, target = data.cuda(async=True), target.cuda(async=True) # On GPU\n",
    "        data, target = Variable(data), Variable(target)\n",
    "        optimizer.zero_grad()\n",
    "        output = model(data)\n",
    "        loss = F.binary_cross_entropy(output, target)\n",
    "        loss.backward()\n",
    "        optimizer.step()\n",
    "        if batch_idx % 10 == 0:\n",
    "            print('Train Epoch: {} [{}/{} ({:.0f}%)]\\tLoss: {:.6f}'.format(\n",
    "                epoch, batch_idx * len(data), len(train_loader.dataset),\n",
    "                100. * batch_idx / len(train_loader), loss.data[0]))"
   ]
  },
  {
   "cell_type": "markdown",
   "metadata": {
    "_cell_guid": "65a8fce1-f2b6-28ea-a807-216db7011267"
   },
   "source": [
    "## Training your model"
   ]
  },
  {
   "cell_type": "code",
   "execution_count": 9,
   "metadata": {
    "ExecuteTime": {
     "end_time": "2017-04-25T21:16:01.421896Z",
     "start_time": "2017-04-25T21:15:51.058525Z"
    },
    "_cell_guid": "5e7ff060-19da-1b01-28ce-bd2e72430fee"
   },
   "outputs": [
    {
     "name": "stdout",
     "output_type": "stream",
     "text": [
      "Train Epoch: 1 [0/40479 (0%)]\tLoss: 0.692961\n",
      "Train Epoch: 1 [2560/40479 (6%)]\tLoss: 0.688596\n",
      "Train Epoch: 1 [5120/40479 (13%)]\tLoss: 0.682759\n",
      "Train Epoch: 1 [7680/40479 (19%)]\tLoss: 0.676263\n",
      "Train Epoch: 1 [10240/40479 (25%)]\tLoss: 0.668731\n",
      "Train Epoch: 1 [12800/40479 (31%)]\tLoss: 0.659607\n",
      "Train Epoch: 1 [15360/40479 (38%)]\tLoss: 0.650362\n",
      "Train Epoch: 1 [17920/40479 (44%)]\tLoss: 0.635071\n",
      "Train Epoch: 1 [20480/40479 (50%)]\tLoss: 0.613103\n",
      "Train Epoch: 1 [23040/40479 (57%)]\tLoss: 0.584744\n",
      "Train Epoch: 1 [25600/40479 (63%)]\tLoss: 0.545705\n",
      "Train Epoch: 1 [28160/40479 (69%)]\tLoss: 0.500222\n",
      "Train Epoch: 1 [30720/40479 (75%)]\tLoss: 0.443742\n",
      "Train Epoch: 1 [33280/40479 (82%)]\tLoss: 0.404282\n",
      "Train Epoch: 1 [35840/40479 (88%)]\tLoss: 0.361815\n",
      "Train Epoch: 1 [38400/40479 (94%)]\tLoss: 0.338667\n"
     ]
    }
   ],
   "source": [
    "for epoch in range(1, 2):\n",
    "    train(epoch)"
   ]
  },
  {
   "cell_type": "markdown",
   "metadata": {
    "_cell_guid": "2e306e2f-87f0-f753-ab41-841a3b097afa"
   },
   "source": [
    "# Thank you for your attention\n",
    "\n",
    "Hopefully that will help you get started. I still have a lot to figure out in PyTorch like:\n",
    "\n",
    "* Implementing the train / validation split\n",
    "* Figure out data augmentation (and not just random transformations or images)\n",
    "* Implementing early stopping\n",
    "* Automating computation of intermediate layers\n",
    "* Improving the display of each epochs\n",
    "\n",
    "If you liked the kernel don't forget to vote and don't hesitate to comment."
   ]
  },
  {
   "cell_type": "code",
   "execution_count": null,
   "metadata": {
    "_cell_guid": "16f21935-088c-8590-9233-2700afeb3922",
    "collapsed": true
   },
   "outputs": [],
   "source": []
  }
 ],
 "metadata": {
  "_change_revision": 0,
  "_is_fork": false,
  "kernelspec": {
   "display_name": "Python 3",
   "language": "python",
   "name": "python3"
  },
  "language_info": {
   "codemirror_mode": {
    "name": "ipython",
    "version": 3
   },
   "file_extension": ".py",
   "mimetype": "text/x-python",
   "name": "python",
   "nbconvert_exporter": "python",
   "pygments_lexer": "ipython3",
   "version": "3.6.0"
  }
 },
 "nbformat": 4,
 "nbformat_minor": 1
}
