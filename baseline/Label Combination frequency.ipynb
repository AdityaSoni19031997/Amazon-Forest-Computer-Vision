{
 "cells": [
  {
   "cell_type": "code",
   "execution_count": 1,
   "metadata": {
    "ExecuteTime": {
     "end_time": "2017-05-04T19:29:52.544778Z",
     "start_time": "2017-05-04T19:29:51.906565Z"
    },
    "collapsed": true
   },
   "outputs": [],
   "source": [
    "import pandas as pd\n",
    "from sklearn.preprocessing import MultiLabelBinarizer\n",
    "import numpy as np"
   ]
  },
  {
   "cell_type": "code",
   "execution_count": 2,
   "metadata": {
    "ExecuteTime": {
     "end_time": "2017-05-04T19:29:53.420678Z",
     "start_time": "2017-05-04T19:29:53.388423Z"
    },
    "collapsed": true
   },
   "outputs": [],
   "source": [
    "df = pd.read_csv('../data/train.csv')"
   ]
  },
  {
   "cell_type": "code",
   "execution_count": null,
   "metadata": {
    "ExecuteTime": {
     "end_time": "2017-05-04T11:36:01.672773Z",
     "start_time": "2017-05-04T11:36:01.658344Z"
    },
    "collapsed": true
   },
   "outputs": [],
   "source": [
    "df"
   ]
  },
  {
   "cell_type": "code",
   "execution_count": 26,
   "metadata": {
    "ExecuteTime": {
     "end_time": "2017-05-05T22:13:32.347783Z",
     "start_time": "2017-05-05T22:13:32.340845Z"
    },
    "collapsed": true
   },
   "outputs": [],
   "source": [
    "mlb = MultiLabelBinarizer(classes = [\n",
    "    'clear', 'cloudy', 'haze','partly_cloudy',\n",
    "    'agriculture','artisinal_mine','bare_ground','blooming',\n",
    "    'blow_down','conventional_mine','cultivation','habitation',\n",
    "    'primary','road','selective_logging','slash_burn','water'\n",
    "    ])"
   ]
  },
  {
   "cell_type": "code",
   "execution_count": 27,
   "metadata": {
    "ExecuteTime": {
     "end_time": "2017-05-05T22:13:36.041161Z",
     "start_time": "2017-05-05T22:13:35.889281Z"
    },
    "collapsed": true
   },
   "outputs": [],
   "source": [
    "df_bin = mlb.fit_transform(df['tags'].str.split(\" \"))"
   ]
  },
  {
   "cell_type": "code",
   "execution_count": null,
   "metadata": {
    "ExecuteTime": {
     "end_time": "2017-05-04T11:36:05.755884Z",
     "start_time": "2017-05-04T11:36:05.752883Z"
    },
    "collapsed": true
   },
   "outputs": [],
   "source": [
    "df_bin"
   ]
  },
  {
   "cell_type": "code",
   "execution_count": null,
   "metadata": {
    "ExecuteTime": {
     "end_time": "2017-05-04T11:36:12.132377Z",
     "start_time": "2017-05-04T11:36:12.119224Z"
    },
    "collapsed": true
   },
   "outputs": [],
   "source": [
    "np.unique(df_bin, return_counts=True) # Numpy 1.13 will add an axis argument to numpy unique"
   ]
  },
  {
   "cell_type": "code",
   "execution_count": null,
   "metadata": {
    "ExecuteTime": {
     "end_time": "2017-05-04T11:36:12.885000Z",
     "start_time": "2017-05-04T11:36:12.742494Z"
    },
    "collapsed": true
   },
   "outputs": [],
   "source": [
    "ncols = df_bin.shape[1]\n",
    "dtype = df_bin.dtype.descr * ncols\n",
    "struct = df_bin.view(dtype)\n",
    "\n",
    "uniq_labels, uniq_counts = np.unique(struct, return_counts=True)\n",
    "uniq_labels = uniq_labels.view(df_bin.dtype).reshape(-1, ncols)"
   ]
  },
  {
   "cell_type": "code",
   "execution_count": null,
   "metadata": {
    "ExecuteTime": {
     "end_time": "2017-05-04T11:36:15.027063Z",
     "start_time": "2017-05-04T11:36:15.023270Z"
    },
    "collapsed": true
   },
   "outputs": [],
   "source": [
    "uniq_labels"
   ]
  },
  {
   "cell_type": "code",
   "execution_count": null,
   "metadata": {
    "ExecuteTime": {
     "end_time": "2017-05-04T11:36:16.689417Z",
     "start_time": "2017-05-04T11:36:16.685441Z"
    },
    "collapsed": true
   },
   "outputs": [],
   "source": [
    "uniq_counts"
   ]
  },
  {
   "cell_type": "code",
   "execution_count": null,
   "metadata": {
    "ExecuteTime": {
     "end_time": "2017-05-04T11:36:35.238471Z",
     "start_time": "2017-05-04T11:36:35.234645Z"
    },
    "collapsed": true
   },
   "outputs": [],
   "source": [
    "df_stats = pd.DataFrame({'tags':mlb.inverse_transform(uniq_labels),'freq':uniq_counts})"
   ]
  },
  {
   "cell_type": "code",
   "execution_count": null,
   "metadata": {
    "ExecuteTime": {
     "end_time": "2017-05-04T11:36:35.935258Z",
     "start_time": "2017-05-04T11:36:35.917868Z"
    },
    "collapsed": true
   },
   "outputs": [],
   "source": [
    "df_stats"
   ]
  },
  {
   "cell_type": "code",
   "execution_count": null,
   "metadata": {
    "ExecuteTime": {
     "end_time": "2017-05-04T11:35:45.503063Z",
     "start_time": "2017-05-04T11:35:45.498717Z"
    },
    "collapsed": true
   },
   "outputs": [],
   "source": [
    "from torch.utils.data.sampler import Sampler\n",
    "class SubsetSequentialSampler(Sampler):\n",
    "     \"\"\"Samples elements sequentially from a given list of indices, always in the same order.\n",
    " \n",
    "     Arguments:\n",
    "         indices (list): a list of indices\n",
    "     \"\"\"\n",
    " \n",
    "     def __init__(self, indices):\n",
    "         self.num_samples = len(indices)\n",
    "         self.indices = indices\n",
    " \n",
    "     def __iter__(self):\n",
    "         return iter(self.indices)\n",
    " \n",
    "     def __len__(self):\n",
    "         return self.num_samples"
   ]
  },
  {
   "cell_type": "code",
   "execution_count": null,
   "metadata": {
    "ExecuteTime": {
     "end_time": "2017-05-04T11:40:56.462027Z",
     "start_time": "2017-05-04T11:40:56.457487Z"
    },
    "collapsed": true
   },
   "outputs": [],
   "source": [
    "class WeightedRandomSampler(Sampler):\n",
    "    \"\"\"Samples elements from [0,..,len(weights)-1] with given probabilities (weights).\n",
    "    Arguments:\n",
    "        weights (list)   : a list of weights, not necessary summing up to one\n",
    "        num_samples (int): number of samples to draw\n",
    "    \"\"\"\n",
    "\n",
    "    def __init__(self, weights, num_samples, replacement=True):\n",
    "        self.weights = torch.DoubleTensor(weights)\n",
    "        self.num_samples = num_samples\n",
    "        self.replacement = replacement\n",
    "\n",
    "    def __iter__(self):\n",
    "        return iter(torch.multinomial(self.weights, self.num_samples, self.replacement))\n",
    "\n",
    "    def __len__(self):\n",
    "        return self.num_samples"
   ]
  },
  {
   "cell_type": "code",
   "execution_count": null,
   "metadata": {
    "ExecuteTime": {
     "end_time": "2017-05-04T11:55:12.020840Z",
     "start_time": "2017-05-04T11:55:11.950985Z"
    },
    "collapsed": true
   },
   "outputs": [],
   "source": [
    "np.apply_along_axis(np.array_str, 1, uniq_labels)"
   ]
  },
  {
   "cell_type": "code",
   "execution_count": null,
   "metadata": {
    "ExecuteTime": {
     "end_time": "2017-05-04T11:59:10.496769Z",
     "start_time": "2017-05-04T11:59:04.531749Z"
    },
    "collapsed": true
   },
   "outputs": [],
   "source": [
    "df['tags_encode'] = np.apply_along_axis(\n",
    "                        np.array_str,\n",
    "                        1,\n",
    "                        mlb.transform(df['tags'].str.split(\" \"))\n",
    "                        )"
   ]
  },
  {
   "cell_type": "code",
   "execution_count": null,
   "metadata": {
    "ExecuteTime": {
     "end_time": "2017-05-04T11:59:12.830760Z",
     "start_time": "2017-05-04T11:59:12.817940Z"
    },
    "collapsed": true
   },
   "outputs": [],
   "source": [
    "df"
   ]
  },
  {
   "cell_type": "code",
   "execution_count": null,
   "metadata": {
    "ExecuteTime": {
     "end_time": "2017-05-04T17:42:42.922638Z",
     "start_time": "2017-05-04T17:42:42.740537Z"
    },
    "collapsed": true
   },
   "outputs": [],
   "source": [
    "df_stats['tags_encode'] = np.apply_along_axis(\n",
    "                        np.array_str,\n",
    "                        1,\n",
    "                        uniq_labels)\n",
    "                        "
   ]
  },
  {
   "cell_type": "code",
   "execution_count": null,
   "metadata": {
    "ExecuteTime": {
     "end_time": "2017-05-04T17:42:48.550328Z",
     "start_time": "2017-05-04T17:42:48.492332Z"
    },
    "collapsed": true
   },
   "outputs": [],
   "source": [
    "df_stats"
   ]
  },
  {
   "cell_type": "code",
   "execution_count": null,
   "metadata": {
    "ExecuteTime": {
     "end_time": "2017-05-04T17:43:09.595778Z",
     "start_time": "2017-05-04T17:43:09.562434Z"
    },
    "collapsed": true
   },
   "outputs": [],
   "source": [
    "df"
   ]
  },
  {
   "cell_type": "code",
   "execution_count": null,
   "metadata": {
    "ExecuteTime": {
     "end_time": "2017-05-04T17:55:03.585164Z",
     "start_time": "2017-05-04T17:55:03.569389Z"
    },
    "collapsed": true
   },
   "outputs": [],
   "source": [
    "df_freq = df.merge(df_stats,how='left',on='tags_encode')"
   ]
  },
  {
   "cell_type": "code",
   "execution_count": null,
   "metadata": {
    "ExecuteTime": {
     "end_time": "2017-05-04T17:54:44.761127Z",
     "start_time": "2017-05-04T17:54:44.755549Z"
    },
    "collapsed": true
   },
   "outputs": [],
   "source": [
    "import torch"
   ]
  },
  {
   "cell_type": "code",
   "execution_count": null,
   "metadata": {
    "ExecuteTime": {
     "end_time": "2017-05-04T18:37:44.487630Z",
     "start_time": "2017-05-04T18:37:44.480409Z"
    },
    "collapsed": true
   },
   "outputs": [],
   "source": [
    "weights = 1 / df_freq['freq'].astype(np.float)"
   ]
  },
  {
   "cell_type": "code",
   "execution_count": null,
   "metadata": {
    "ExecuteTime": {
     "end_time": "2017-05-04T18:37:46.692627Z",
     "start_time": "2017-05-04T18:37:46.680785Z"
    },
    "collapsed": true
   },
   "outputs": [],
   "source": [
    "weights"
   ]
  },
  {
   "cell_type": "code",
   "execution_count": null,
   "metadata": {
    "ExecuteTime": {
     "end_time": "2017-05-04T18:23:03.635171Z",
     "start_time": "2017-05-04T18:23:03.578848Z"
    },
    "collapsed": true
   },
   "outputs": [],
   "source": [
    "df_freq.iloc[:split]"
   ]
  },
  {
   "cell_type": "code",
   "execution_count": null,
   "metadata": {
    "ExecuteTime": {
     "end_time": "2017-05-04T18:26:26.041061Z",
     "start_time": "2017-05-04T18:26:26.034081Z"
    },
    "collapsed": true
   },
   "outputs": [],
   "source": [
    "length = len(df_freq.index)\n",
    "indices = list(range(1,length))"
   ]
  },
  {
   "cell_type": "code",
   "execution_count": null,
   "metadata": {
    "ExecuteTime": {
     "end_time": "2017-05-04T18:27:19.826591Z",
     "start_time": "2017-05-04T18:27:19.822832Z"
    },
    "collapsed": true
   },
   "outputs": [],
   "source": [
    "split = floor(0.2 * length)"
   ]
  },
  {
   "cell_type": "code",
   "execution_count": null,
   "metadata": {
    "ExecuteTime": {
     "end_time": "2017-05-04T18:27:24.927347Z",
     "start_time": "2017-05-04T18:27:24.924735Z"
    },
    "collapsed": true
   },
   "outputs": [],
   "source": [
    "split"
   ]
  },
  {
   "cell_type": "code",
   "execution_count": null,
   "metadata": {
    "ExecuteTime": {
     "end_time": "2017-05-04T18:27:34.419259Z",
     "start_time": "2017-05-04T18:27:34.413700Z"
    },
    "collapsed": true
   },
   "outputs": [],
   "source": [
    "import random"
   ]
  },
  {
   "cell_type": "code",
   "execution_count": null,
   "metadata": {
    "ExecuteTime": {
     "end_time": "2017-05-04T18:27:47.355356Z",
     "start_time": "2017-05-04T18:27:47.311397Z"
    },
    "collapsed": true
   },
   "outputs": [],
   "source": [
    "random.shuffle(indices)"
   ]
  },
  {
   "cell_type": "code",
   "execution_count": null,
   "metadata": {
    "ExecuteTime": {
     "end_time": "2017-05-04T18:38:28.486862Z",
     "start_time": "2017-05-04T18:38:28.481329Z"
    },
    "collapsed": true
   },
   "outputs": [],
   "source": [
    "weights[indices[:split]] = 0"
   ]
  },
  {
   "cell_type": "code",
   "execution_count": null,
   "metadata": {
    "ExecuteTime": {
     "end_time": "2017-05-04T18:38:47.345274Z",
     "start_time": "2017-05-04T18:38:47.338255Z"
    },
    "collapsed": true
   },
   "outputs": [],
   "source": [
    "weights[weights==0]"
   ]
  },
  {
   "cell_type": "code",
   "execution_count": 7,
   "metadata": {
    "ExecuteTime": {
     "end_time": "2017-05-04T19:31:54.970047Z",
     "start_time": "2017-05-04T19:31:54.951846Z"
    },
    "collapsed": true
   },
   "outputs": [],
   "source": [
    "def balance_weights(df_source, col_target, mlb):\n",
    "    \"\"\" Compute balanced weights from a Multilabel dataframe\n",
    "    \n",
    "    Arguments:\n",
    "        Dataframe\n",
    "        The name of the column with the target labels\n",
    "        A MultiLabelBinarizer to one-hot-encode/decode the label column\n",
    "        \n",
    "    Returns:\n",
    "        A Pandas Series with balanced weights\n",
    "    \"\"\"\n",
    "    \n",
    "    # Create a working copy of the dataframe\n",
    "    df = df_source.copy(deep=True)\n",
    "    \n",
    "    df_labels = mlb.transform(df[col_target].str.split(\" \"))\n",
    "    \n",
    "    ## Next 4 lines won't be needed when axis argument is added to np.unique in NumPy 1.13\n",
    "    ncols = df_labels.shape[1]\n",
    "    dtype = df_labels.dtype.descr * ncols\n",
    "    struct = df_labels.view(dtype)\n",
    "    uniq_labels, uniq_counts = np.unique(struct, return_counts=True)\n",
    "    \n",
    "    uniq_labels = uniq_labels.view(df_labels.dtype).reshape(-1, ncols)\n",
    "    \n",
    "    ## We convert the One-Hot-Encoded labels as string to store them in a dataframe and join on them\n",
    "    df_stats = pd.DataFrame({\n",
    "        'target':np.apply_along_axis(np.array_str, 1, uniq_labels),\n",
    "        'freq':uniq_counts\n",
    "    })\n",
    "    \n",
    "    df['target'] = np.apply_along_axis(np.array_str, 1, df_labels)\n",
    "    \n",
    "    ## Join the dataframe to add frequency\n",
    "    df = df.merge(df_stats,how='left',on='target')\n",
    "    \n",
    "    ## Compute balanced weights\n",
    "    weights = 1 / df['freq'].astype(np.float)\n",
    "    \n",
    "    return weights"
   ]
  },
  {
   "cell_type": "code",
   "execution_count": 12,
   "metadata": {
    "ExecuteTime": {
     "end_time": "2017-05-04T21:04:19.492702Z",
     "start_time": "2017-05-04T21:04:09.252686Z"
    },
    "collapsed": true
   },
   "outputs": [],
   "source": [
    "weights = balance_weights(df,'tags',mlb)"
   ]
  },
  {
   "cell_type": "code",
   "execution_count": 9,
   "metadata": {
    "ExecuteTime": {
     "end_time": "2017-05-04T19:32:42.668477Z",
     "start_time": "2017-05-04T19:32:42.651442Z"
    }
   },
   "outputs": [
    {
     "data": {
      "text/html": [
       "<div>\n",
       "<table border=\"1\" class=\"dataframe\">\n",
       "  <thead>\n",
       "    <tr style=\"text-align: right;\">\n",
       "      <th></th>\n",
       "      <th>image_name</th>\n",
       "      <th>tags</th>\n",
       "    </tr>\n",
       "  </thead>\n",
       "  <tbody>\n",
       "    <tr>\n",
       "      <th>0</th>\n",
       "      <td>train_0</td>\n",
       "      <td>haze primary</td>\n",
       "    </tr>\n",
       "    <tr>\n",
       "      <th>1</th>\n",
       "      <td>train_1</td>\n",
       "      <td>agriculture clear primary water</td>\n",
       "    </tr>\n",
       "    <tr>\n",
       "      <th>2</th>\n",
       "      <td>train_2</td>\n",
       "      <td>clear primary</td>\n",
       "    </tr>\n",
       "    <tr>\n",
       "      <th>3</th>\n",
       "      <td>train_3</td>\n",
       "      <td>clear primary</td>\n",
       "    </tr>\n",
       "    <tr>\n",
       "      <th>4</th>\n",
       "      <td>train_4</td>\n",
       "      <td>agriculture clear habitation primary road</td>\n",
       "    </tr>\n",
       "    <tr>\n",
       "      <th>5</th>\n",
       "      <td>train_5</td>\n",
       "      <td>haze primary water</td>\n",
       "    </tr>\n",
       "    <tr>\n",
       "      <th>6</th>\n",
       "      <td>train_6</td>\n",
       "      <td>agriculture clear cultivation primary water</td>\n",
       "    </tr>\n",
       "    <tr>\n",
       "      <th>7</th>\n",
       "      <td>train_7</td>\n",
       "      <td>haze primary</td>\n",
       "    </tr>\n",
       "    <tr>\n",
       "      <th>8</th>\n",
       "      <td>train_8</td>\n",
       "      <td>agriculture clear cultivation primary</td>\n",
       "    </tr>\n",
       "    <tr>\n",
       "      <th>9</th>\n",
       "      <td>train_9</td>\n",
       "      <td>agriculture clear cultivation primary road</td>\n",
       "    </tr>\n",
       "    <tr>\n",
       "      <th>10</th>\n",
       "      <td>train_10</td>\n",
       "      <td>agriculture clear primary slash_burn water</td>\n",
       "    </tr>\n",
       "    <tr>\n",
       "      <th>11</th>\n",
       "      <td>train_11</td>\n",
       "      <td>clear primary water</td>\n",
       "    </tr>\n",
       "    <tr>\n",
       "      <th>12</th>\n",
       "      <td>train_12</td>\n",
       "      <td>cloudy</td>\n",
       "    </tr>\n",
       "    <tr>\n",
       "      <th>13</th>\n",
       "      <td>train_13</td>\n",
       "      <td>clear primary</td>\n",
       "    </tr>\n",
       "    <tr>\n",
       "      <th>14</th>\n",
       "      <td>train_14</td>\n",
       "      <td>cloudy</td>\n",
       "    </tr>\n",
       "    <tr>\n",
       "      <th>15</th>\n",
       "      <td>train_15</td>\n",
       "      <td>clear primary</td>\n",
       "    </tr>\n",
       "    <tr>\n",
       "      <th>16</th>\n",
       "      <td>train_16</td>\n",
       "      <td>clear primary</td>\n",
       "    </tr>\n",
       "    <tr>\n",
       "      <th>17</th>\n",
       "      <td>train_17</td>\n",
       "      <td>partly_cloudy primary</td>\n",
       "    </tr>\n",
       "    <tr>\n",
       "      <th>18</th>\n",
       "      <td>train_18</td>\n",
       "      <td>clear primary</td>\n",
       "    </tr>\n",
       "    <tr>\n",
       "      <th>19</th>\n",
       "      <td>train_19</td>\n",
       "      <td>agriculture clear primary road</td>\n",
       "    </tr>\n",
       "    <tr>\n",
       "      <th>20</th>\n",
       "      <td>train_20</td>\n",
       "      <td>agriculture clear primary water</td>\n",
       "    </tr>\n",
       "    <tr>\n",
       "      <th>21</th>\n",
       "      <td>train_21</td>\n",
       "      <td>clear primary road water</td>\n",
       "    </tr>\n",
       "    <tr>\n",
       "      <th>22</th>\n",
       "      <td>train_22</td>\n",
       "      <td>partly_cloudy primary</td>\n",
       "    </tr>\n",
       "    <tr>\n",
       "      <th>23</th>\n",
       "      <td>train_23</td>\n",
       "      <td>agriculture clear primary road</td>\n",
       "    </tr>\n",
       "    <tr>\n",
       "      <th>24</th>\n",
       "      <td>train_24</td>\n",
       "      <td>conventional_mine partly_cloudy primary</td>\n",
       "    </tr>\n",
       "    <tr>\n",
       "      <th>25</th>\n",
       "      <td>train_25</td>\n",
       "      <td>clear primary</td>\n",
       "    </tr>\n",
       "    <tr>\n",
       "      <th>26</th>\n",
       "      <td>train_26</td>\n",
       "      <td>cloudy primary</td>\n",
       "    </tr>\n",
       "    <tr>\n",
       "      <th>27</th>\n",
       "      <td>train_27</td>\n",
       "      <td>agriculture partly_cloudy primary water</td>\n",
       "    </tr>\n",
       "    <tr>\n",
       "      <th>28</th>\n",
       "      <td>train_28</td>\n",
       "      <td>clear primary</td>\n",
       "    </tr>\n",
       "    <tr>\n",
       "      <th>29</th>\n",
       "      <td>train_29</td>\n",
       "      <td>partly_cloudy primary</td>\n",
       "    </tr>\n",
       "    <tr>\n",
       "      <th>...</th>\n",
       "      <td>...</td>\n",
       "      <td>...</td>\n",
       "    </tr>\n",
       "    <tr>\n",
       "      <th>40449</th>\n",
       "      <td>train_40449</td>\n",
       "      <td>clear primary water</td>\n",
       "    </tr>\n",
       "    <tr>\n",
       "      <th>40450</th>\n",
       "      <td>train_40450</td>\n",
       "      <td>agriculture cultivation partly_cloudy primary ...</td>\n",
       "    </tr>\n",
       "    <tr>\n",
       "      <th>40451</th>\n",
       "      <td>train_40451</td>\n",
       "      <td>clear primary</td>\n",
       "    </tr>\n",
       "    <tr>\n",
       "      <th>40452</th>\n",
       "      <td>train_40452</td>\n",
       "      <td>clear primary</td>\n",
       "    </tr>\n",
       "    <tr>\n",
       "      <th>40453</th>\n",
       "      <td>train_40453</td>\n",
       "      <td>artisinal_mine clear primary</td>\n",
       "    </tr>\n",
       "    <tr>\n",
       "      <th>40454</th>\n",
       "      <td>train_40454</td>\n",
       "      <td>clear primary</td>\n",
       "    </tr>\n",
       "    <tr>\n",
       "      <th>40455</th>\n",
       "      <td>train_40455</td>\n",
       "      <td>agriculture partly_cloudy primary road convent...</td>\n",
       "    </tr>\n",
       "    <tr>\n",
       "      <th>40456</th>\n",
       "      <td>train_40456</td>\n",
       "      <td>clear primary</td>\n",
       "    </tr>\n",
       "    <tr>\n",
       "      <th>40457</th>\n",
       "      <td>train_40457</td>\n",
       "      <td>clear primary road selective_logging water</td>\n",
       "    </tr>\n",
       "    <tr>\n",
       "      <th>40458</th>\n",
       "      <td>train_40458</td>\n",
       "      <td>agriculture clear primary road</td>\n",
       "    </tr>\n",
       "    <tr>\n",
       "      <th>40459</th>\n",
       "      <td>train_40459</td>\n",
       "      <td>clear primary water</td>\n",
       "    </tr>\n",
       "    <tr>\n",
       "      <th>40460</th>\n",
       "      <td>train_40460</td>\n",
       "      <td>clear primary</td>\n",
       "    </tr>\n",
       "    <tr>\n",
       "      <th>40461</th>\n",
       "      <td>train_40461</td>\n",
       "      <td>cloudy</td>\n",
       "    </tr>\n",
       "    <tr>\n",
       "      <th>40462</th>\n",
       "      <td>train_40462</td>\n",
       "      <td>clear primary</td>\n",
       "    </tr>\n",
       "    <tr>\n",
       "      <th>40463</th>\n",
       "      <td>train_40463</td>\n",
       "      <td>agriculture haze primary</td>\n",
       "    </tr>\n",
       "    <tr>\n",
       "      <th>40464</th>\n",
       "      <td>train_40464</td>\n",
       "      <td>agriculture partly_cloudy primary road</td>\n",
       "    </tr>\n",
       "    <tr>\n",
       "      <th>40465</th>\n",
       "      <td>train_40465</td>\n",
       "      <td>blow_down clear primary</td>\n",
       "    </tr>\n",
       "    <tr>\n",
       "      <th>40466</th>\n",
       "      <td>train_40466</td>\n",
       "      <td>clear primary</td>\n",
       "    </tr>\n",
       "    <tr>\n",
       "      <th>40467</th>\n",
       "      <td>train_40467</td>\n",
       "      <td>agriculture clear primary road</td>\n",
       "    </tr>\n",
       "    <tr>\n",
       "      <th>40468</th>\n",
       "      <td>train_40468</td>\n",
       "      <td>agriculture clear primary</td>\n",
       "    </tr>\n",
       "    <tr>\n",
       "      <th>40469</th>\n",
       "      <td>train_40469</td>\n",
       "      <td>haze primary water</td>\n",
       "    </tr>\n",
       "    <tr>\n",
       "      <th>40470</th>\n",
       "      <td>train_40470</td>\n",
       "      <td>clear habitation primary road</td>\n",
       "    </tr>\n",
       "    <tr>\n",
       "      <th>40471</th>\n",
       "      <td>train_40471</td>\n",
       "      <td>clear primary</td>\n",
       "    </tr>\n",
       "    <tr>\n",
       "      <th>40472</th>\n",
       "      <td>train_40472</td>\n",
       "      <td>agriculture clear primary</td>\n",
       "    </tr>\n",
       "    <tr>\n",
       "      <th>40473</th>\n",
       "      <td>train_40473</td>\n",
       "      <td>agriculture clear habitation primary road</td>\n",
       "    </tr>\n",
       "    <tr>\n",
       "      <th>40474</th>\n",
       "      <td>train_40474</td>\n",
       "      <td>clear primary</td>\n",
       "    </tr>\n",
       "    <tr>\n",
       "      <th>40475</th>\n",
       "      <td>train_40475</td>\n",
       "      <td>cloudy</td>\n",
       "    </tr>\n",
       "    <tr>\n",
       "      <th>40476</th>\n",
       "      <td>train_40476</td>\n",
       "      <td>agriculture clear primary</td>\n",
       "    </tr>\n",
       "    <tr>\n",
       "      <th>40477</th>\n",
       "      <td>train_40477</td>\n",
       "      <td>agriculture clear primary road</td>\n",
       "    </tr>\n",
       "    <tr>\n",
       "      <th>40478</th>\n",
       "      <td>train_40478</td>\n",
       "      <td>agriculture cultivation partly_cloudy primary</td>\n",
       "    </tr>\n",
       "  </tbody>\n",
       "</table>\n",
       "<p>40479 rows × 2 columns</p>\n",
       "</div>"
      ],
      "text/plain": [
       "        image_name                                               tags\n",
       "0          train_0                                       haze primary\n",
       "1          train_1                    agriculture clear primary water\n",
       "2          train_2                                      clear primary\n",
       "3          train_3                                      clear primary\n",
       "4          train_4          agriculture clear habitation primary road\n",
       "5          train_5                                 haze primary water\n",
       "6          train_6        agriculture clear cultivation primary water\n",
       "7          train_7                                       haze primary\n",
       "8          train_8              agriculture clear cultivation primary\n",
       "9          train_9         agriculture clear cultivation primary road\n",
       "10        train_10         agriculture clear primary slash_burn water\n",
       "11        train_11                                clear primary water\n",
       "12        train_12                                             cloudy\n",
       "13        train_13                                      clear primary\n",
       "14        train_14                                             cloudy\n",
       "15        train_15                                      clear primary\n",
       "16        train_16                                      clear primary\n",
       "17        train_17                              partly_cloudy primary\n",
       "18        train_18                                      clear primary\n",
       "19        train_19                     agriculture clear primary road\n",
       "20        train_20                    agriculture clear primary water\n",
       "21        train_21                           clear primary road water\n",
       "22        train_22                              partly_cloudy primary\n",
       "23        train_23                     agriculture clear primary road\n",
       "24        train_24            conventional_mine partly_cloudy primary\n",
       "25        train_25                                      clear primary\n",
       "26        train_26                                     cloudy primary\n",
       "27        train_27            agriculture partly_cloudy primary water\n",
       "28        train_28                                      clear primary\n",
       "29        train_29                              partly_cloudy primary\n",
       "...            ...                                                ...\n",
       "40449  train_40449                                clear primary water\n",
       "40450  train_40450  agriculture cultivation partly_cloudy primary ...\n",
       "40451  train_40451                                      clear primary\n",
       "40452  train_40452                                      clear primary\n",
       "40453  train_40453                       artisinal_mine clear primary\n",
       "40454  train_40454                                      clear primary\n",
       "40455  train_40455  agriculture partly_cloudy primary road convent...\n",
       "40456  train_40456                                      clear primary\n",
       "40457  train_40457         clear primary road selective_logging water\n",
       "40458  train_40458                     agriculture clear primary road\n",
       "40459  train_40459                                clear primary water\n",
       "40460  train_40460                                      clear primary\n",
       "40461  train_40461                                             cloudy\n",
       "40462  train_40462                                      clear primary\n",
       "40463  train_40463                           agriculture haze primary\n",
       "40464  train_40464             agriculture partly_cloudy primary road\n",
       "40465  train_40465                            blow_down clear primary\n",
       "40466  train_40466                                      clear primary\n",
       "40467  train_40467                     agriculture clear primary road\n",
       "40468  train_40468                          agriculture clear primary\n",
       "40469  train_40469                                 haze primary water\n",
       "40470  train_40470                      clear habitation primary road\n",
       "40471  train_40471                                      clear primary\n",
       "40472  train_40472                          agriculture clear primary\n",
       "40473  train_40473          agriculture clear habitation primary road\n",
       "40474  train_40474                                      clear primary\n",
       "40475  train_40475                                             cloudy\n",
       "40476  train_40476                          agriculture clear primary\n",
       "40477  train_40477                     agriculture clear primary road\n",
       "40478  train_40478      agriculture cultivation partly_cloudy primary\n",
       "\n",
       "[40479 rows x 2 columns]"
      ]
     },
     "execution_count": 9,
     "metadata": {},
     "output_type": "execute_result"
    }
   ],
   "source": [
    "df"
   ]
  },
  {
   "cell_type": "code",
   "execution_count": 14,
   "metadata": {
    "ExecuteTime": {
     "end_time": "2017-05-04T21:04:56.742914Z",
     "start_time": "2017-05-04T21:04:56.735387Z"
    }
   },
   "outputs": [
    {
     "data": {
      "text/plain": [
       "(array([  7.33352889e-05,   2.75558005e-04,   5.08130081e-04,\n",
       "          5.40540541e-04,   5.95238095e-04,   6.15006150e-04,\n",
       "          6.80735194e-04,   8.42459983e-04,   8.88888889e-04,\n",
       "          1.40449438e-03,   1.44508671e-03,   1.68067227e-03,\n",
       "          1.89753321e-03,   1.98412698e-03,   2.11864407e-03,\n",
       "          2.22717149e-03,   2.57069409e-03,   3.18471338e-03,\n",
       "          3.20512821e-03,   3.54609929e-03,   3.89105058e-03,\n",
       "          4.03225806e-03,   4.16666667e-03,   4.25531915e-03,\n",
       "          4.40528634e-03,   5.12820513e-03,   5.15463918e-03,\n",
       "          5.81395349e-03,   5.91715976e-03,   6.21118012e-03,\n",
       "          6.89655172e-03,   7.09219858e-03,   7.35294118e-03,\n",
       "          7.69230769e-03,   7.93650794e-03,   8.13008130e-03,\n",
       "          8.69565217e-03,   8.92857143e-03,   9.43396226e-03,\n",
       "          9.52380952e-03,   9.70873786e-03,   9.80392157e-03,\n",
       "          1.08695652e-02,   1.12359551e-02,   1.16279070e-02,\n",
       "          1.36986301e-02,   1.38888889e-02,   1.44927536e-02,\n",
       "          1.47058824e-02,   1.56250000e-02,   1.63934426e-02,\n",
       "          1.72413793e-02,   1.75438596e-02,   1.81818182e-02,\n",
       "          1.88679245e-02,   1.92307692e-02,   1.96078431e-02,\n",
       "          2.17391304e-02,   2.27272727e-02,   2.43902439e-02,\n",
       "          2.56410256e-02,   2.63157895e-02,   2.77777778e-02,\n",
       "          2.94117647e-02,   3.03030303e-02,   3.12500000e-02,\n",
       "          3.22580645e-02,   3.33333333e-02,   3.44827586e-02,\n",
       "          3.70370370e-02,   3.84615385e-02,   4.00000000e-02,\n",
       "          4.16666667e-02,   4.34782609e-02,   4.76190476e-02,\n",
       "          5.00000000e-02,   5.26315789e-02,   5.88235294e-02,\n",
       "          6.25000000e-02,   6.66666667e-02,   7.14285714e-02,\n",
       "          7.69230769e-02,   8.33333333e-02,   9.09090909e-02,\n",
       "          1.00000000e-01,   1.11111111e-01,   1.25000000e-01,\n",
       "          1.42857143e-01,   1.66666667e-01,   2.00000000e-01,\n",
       "          2.50000000e-01,   3.33333333e-01,   5.00000000e-01,\n",
       "          1.00000000e+00]),\n",
       " array([13636,  3629,  1968,  1850,  1680,  1626,  1469,  1187,  1125,\n",
       "          712,   692,   595,   527,   504,   472,   449,   389,   314,\n",
       "          312,   282,   257,   248,   240,   235,   227,   195,   194,\n",
       "          172,   169,   161,   145,   141,   136,   130,   126,   123,\n",
       "          115,   112,   106,   105,   103,   102,    92,    89,    86,\n",
       "           73,    72,   138,    68,    64,    61,   116,    57,   220,\n",
       "           53,    52,    51,    46,    44,   164,    39,    38,    36,\n",
       "           68,    33,    64,    31,    30,    29,    81,    26,    25,\n",
       "           48,    23,    42,    20,    38,    51,    64,   120,    28,\n",
       "           78,    48,    66,    70,    81,    72,    70,    48,    85,\n",
       "          104,    75,   112,   130]))"
      ]
     },
     "execution_count": 14,
     "metadata": {},
     "output_type": "execute_result"
    }
   ],
   "source": [
    "np.unique(weights, return_counts=True)"
   ]
  },
  {
   "cell_type": "code",
   "execution_count": 15,
   "metadata": {
    "ExecuteTime": {
     "end_time": "2017-05-04T21:06:26.740649Z",
     "start_time": "2017-05-04T21:06:26.737196Z"
    }
   },
   "outputs": [
    {
     "data": {
      "text/plain": [
       "28170"
      ]
     },
     "execution_count": 15,
     "metadata": {},
     "output_type": "execute_result"
    }
   ],
   "source": [
    "13636+3629+1968+1850+1680+1626+1469+1187+1125"
   ]
  },
  {
   "cell_type": "code",
   "execution_count": 16,
   "metadata": {
    "ExecuteTime": {
     "end_time": "2017-05-04T21:07:47.995671Z",
     "start_time": "2017-05-04T21:07:47.982793Z"
    }
   },
   "outputs": [
    {
     "data": {
      "text/plain": [
       "0            6.807352\n",
       "1           14.044944\n",
       "2            0.733353\n",
       "3            0.733353\n",
       "4            8.888889\n",
       "5           31.847134\n",
       "6           44.052863\n",
       "7            6.807352\n",
       "8            8.424600\n",
       "9           25.706941\n",
       "10       10000.000000\n",
       "11           5.405405\n",
       "12           5.081301\n",
       "13           0.733353\n",
       "14           5.081301\n",
       "15           0.733353\n",
       "16           0.733353\n",
       "17           2.755580\n",
       "18           0.733353\n",
       "19           5.952381\n",
       "20          14.044944\n",
       "21          19.841270\n",
       "22           2.755580\n",
       "23           5.952381\n",
       "24         833.333333\n",
       "25           0.733353\n",
       "26          38.910506\n",
       "27          51.282051\n",
       "28           0.733353\n",
       "29           2.755580\n",
       "             ...     \n",
       "40449        5.405405\n",
       "40450       81.300813\n",
       "40451        0.733353\n",
       "40452        0.733353\n",
       "40453      666.666667\n",
       "40454        0.733353\n",
       "40455    10000.000000\n",
       "40456        0.733353\n",
       "40457      666.666667\n",
       "40458        5.952381\n",
       "40459        5.405405\n",
       "40460        0.733353\n",
       "40461        5.081301\n",
       "40462        0.733353\n",
       "40463       58.139535\n",
       "40464       18.975332\n",
       "40465      181.818182\n",
       "40466        0.733353\n",
       "40467        5.952381\n",
       "40468        6.150062\n",
       "40469       31.847134\n",
       "40470       51.546392\n",
       "40471        0.733353\n",
       "40472        6.150062\n",
       "40473        8.888889\n",
       "40474        0.733353\n",
       "40475        5.081301\n",
       "40476        6.150062\n",
       "40477        5.952381\n",
       "40478       32.051282\n",
       "Name: freq, dtype: float64"
      ]
     },
     "execution_count": 16,
     "metadata": {},
     "output_type": "execute_result"
    }
   ],
   "source": [
    "weights * 10000"
   ]
  },
  {
   "cell_type": "code",
   "execution_count": 19,
   "metadata": {
    "ExecuteTime": {
     "end_time": "2017-05-04T22:02:54.165570Z",
     "start_time": "2017-05-04T22:02:54.158404Z"
    }
   },
   "outputs": [
    {
     "data": {
      "text/plain": [
       "(array([ 0.02      ,  0.02173913,  0.02272727,  0.02439024,  0.02564103,\n",
       "         0.02631579,  0.02777778,  0.02941176,  0.03030303,  0.03125   ,\n",
       "         0.03225806,  0.03333333,  0.03448276,  0.03703704,  0.03846154,\n",
       "         0.04      ,  0.04166667,  0.04347826,  0.04761905,  0.05      ,\n",
       "         0.05263158,  0.05882353,  0.0625    ,  0.06666667,  0.07142857,\n",
       "         0.07692308,  0.08333333,  0.09090909,  0.1       ,  0.11111111,\n",
       "         0.125     ,  0.14285714,  0.16666667,  0.2       ]),\n",
       " array([38252,    46,    44,   164,    39,    38,    36,    68,    33,\n",
       "           64,    31,    30,    29,    81,    26,    25,    48,    23,\n",
       "           42,    20,    38,    51,    64,   120,    28,    78,    48,\n",
       "           66,    70,    81,    72,    70,    48,   506]))"
      ]
     },
     "execution_count": 19,
     "metadata": {},
     "output_type": "execute_result"
    }
   ],
   "source": [
    "np.unique(np.clip(weights,0.02,0.2), return_counts=True)"
   ]
  },
  {
   "cell_type": "code",
   "execution_count": 18,
   "metadata": {
    "ExecuteTime": {
     "end_time": "2017-05-04T22:01:24.009776Z",
     "start_time": "2017-05-04T22:01:24.002973Z"
    }
   },
   "outputs": [
    {
     "data": {
      "text/plain": [
       "array(['agriculture', 'artisinal_mine', 'bare_ground', 'blooming',\n",
       "       'blow_down', 'clear', 'cloudy', 'conventional_mine', 'cultivation',\n",
       "       'habitation', 'haze', 'partly_cloudy', 'primary', 'road',\n",
       "       'selective_logging', 'slash_burn', 'water'], dtype=object)"
      ]
     },
     "execution_count": 18,
     "metadata": {},
     "output_type": "execute_result"
    }
   ],
   "source": [
    "mlb.classes_"
   ]
  },
  {
   "cell_type": "code",
   "execution_count": 28,
   "metadata": {
    "ExecuteTime": {
     "end_time": "2017-05-05T22:13:48.601451Z",
     "start_time": "2017-05-05T22:13:48.593359Z"
    }
   },
   "outputs": [
    {
     "data": {
      "text/plain": [
       "array([[0, 0, 1, ..., 0, 0, 0],\n",
       "       [1, 0, 0, ..., 0, 0, 1],\n",
       "       [1, 0, 0, ..., 0, 0, 0],\n",
       "       ..., \n",
       "       [1, 0, 0, ..., 0, 0, 0],\n",
       "       [1, 0, 0, ..., 0, 0, 0],\n",
       "       [0, 0, 0, ..., 0, 0, 0]])"
      ]
     },
     "execution_count": 28,
     "metadata": {},
     "output_type": "execute_result"
    }
   ],
   "source": [
    "df_bin"
   ]
  },
  {
   "cell_type": "code",
   "execution_count": 29,
   "metadata": {
    "ExecuteTime": {
     "end_time": "2017-05-05T22:13:51.572575Z",
     "start_time": "2017-05-05T22:13:51.568757Z"
    }
   },
   "outputs": [
    {
     "data": {
      "text/plain": [
       "array([28203,  2330,  2695,  7251, 12338,   339,   859,   332,    98,\n",
       "         100,  4477,  3662, 37840,  8076,   340,   209,  7262])"
      ]
     },
     "execution_count": 29,
     "metadata": {},
     "output_type": "execute_result"
    }
   ],
   "source": [
    "df_bin.sum(axis=0)"
   ]
  },
  {
   "cell_type": "code",
   "execution_count": null,
   "metadata": {
    "collapsed": true
   },
   "outputs": [],
   "source": []
  }
 ],
 "metadata": {
  "kernelspec": {
   "display_name": "Python 3",
   "language": "python",
   "name": "python3"
  },
  "language_info": {
   "codemirror_mode": {
    "name": "ipython",
    "version": 3
   },
   "file_extension": ".py",
   "mimetype": "text/x-python",
   "name": "python",
   "nbconvert_exporter": "python",
   "pygments_lexer": "ipython3",
   "version": "3.6.0"
  }
 },
 "nbformat": 4,
 "nbformat_minor": 2
}
