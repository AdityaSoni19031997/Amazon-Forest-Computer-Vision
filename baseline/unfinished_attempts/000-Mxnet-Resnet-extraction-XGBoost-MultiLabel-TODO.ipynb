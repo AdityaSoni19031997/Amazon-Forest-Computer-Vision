{
 "cells": [
  {
   "cell_type": "code",
   "execution_count": 5,
   "metadata": {
    "ExecuteTime": {
     "end_time": "2017-04-21T06:06:23.865835Z",
     "start_time": "2017-04-21T06:06:23.863222Z"
    }
   },
   "outputs": [],
   "source": [
    "import pandas as pd\n",
    "import numpy as np"
   ]
  },
  {
   "cell_type": "code",
   "execution_count": 6,
   "metadata": {
    "ExecuteTime": {
     "end_time": "2017-04-21T06:06:24.336423Z",
     "start_time": "2017-04-21T06:06:24.315747Z"
    }
   },
   "outputs": [],
   "source": [
    "df_train = pd.read_csv('./data/train.csv')"
   ]
  },
  {
   "cell_type": "code",
   "execution_count": 7,
   "metadata": {
    "ExecuteTime": {
     "end_time": "2017-04-21T06:06:24.608470Z",
     "start_time": "2017-04-21T06:06:24.603983Z"
    }
   },
   "outputs": [
    {
     "name": "stdout",
     "output_type": "stream",
     "text": [
      "Reading labels ...\n",
      "  image_name                                       tags\n",
      "0    train_0                               haze primary\n",
      "1    train_1            agriculture clear primary water\n",
      "2    train_2                              clear primary\n",
      "3    train_3                              clear primary\n",
      "4    train_4  agriculture clear habitation primary road\n"
     ]
    }
   ],
   "source": [
    "print(\"Reading labels ...\")\n",
    "print(df_train.head())"
   ]
  },
  {
   "cell_type": "code",
   "execution_count": 9,
   "metadata": {
    "ExecuteTime": {
     "end_time": "2017-04-21T06:06:37.925413Z",
     "start_time": "2017-04-21T06:06:30.374043Z"
    }
   },
   "outputs": [],
   "source": [
    "X = np.array([np.load('./baseline/tmp/TMPDIR%s.jpg.npy' % str(name)) for name in df_train['image_name'].tolist()])"
   ]
  },
  {
   "cell_type": "code",
   "execution_count": 10,
   "metadata": {
    "ExecuteTime": {
     "end_time": "2017-04-21T06:06:37.970605Z",
     "start_time": "2017-04-21T06:06:37.926635Z"
    }
   },
   "outputs": [],
   "source": [
    "flatten = lambda l: [item for sublist in l for item in sublist]\n",
    "labels = list(set(flatten([l.split(' ') for l in df_train['tags'].values])))\n",
    "\n",
    "label_map = {l: i for i, l in enumerate(labels)}\n",
    "inv_label_map = {i: l for l, i in label_map.items()}\n"
   ]
  },
  {
   "cell_type": "code",
   "execution_count": 11,
   "metadata": {
    "ExecuteTime": {
     "end_time": "2017-04-21T06:06:37.981505Z",
     "start_time": "2017-04-21T06:06:37.971927Z"
    }
   },
   "outputs": [
    {
     "data": {
      "text/plain": [
       "{'agriculture': 16,\n",
       " 'artisinal_mine': 2,\n",
       " 'bare_ground': 10,\n",
       " 'blooming': 8,\n",
       " 'blow_down': 3,\n",
       " 'clear': 6,\n",
       " 'cloudy': 1,\n",
       " 'conventional_mine': 4,\n",
       " 'cultivation': 5,\n",
       " 'habitation': 11,\n",
       " 'haze': 15,\n",
       " 'partly_cloudy': 13,\n",
       " 'primary': 0,\n",
       " 'road': 9,\n",
       " 'selective_logging': 12,\n",
       " 'slash_burn': 7,\n",
       " 'water': 14}"
      ]
     },
     "execution_count": 11,
     "metadata": {},
     "output_type": "execute_result"
    }
   ],
   "source": [
    "label_map"
   ]
  },
  {
   "cell_type": "code",
   "execution_count": 40,
   "metadata": {
    "ExecuteTime": {
     "end_time": "2017-04-21T06:31:30.982656Z",
     "start_time": "2017-04-21T06:31:30.980680Z"
    }
   },
   "outputs": [],
   "source": [
    "from sklearn.metrics import fbeta_score\n",
    "import xgboost as xgb"
   ]
  },
  {
   "cell_type": "code",
   "execution_count": 13,
   "metadata": {
    "ExecuteTime": {
     "end_time": "2017-04-21T06:06:38.132293Z",
     "start_time": "2017-04-21T06:06:38.128493Z"
    }
   },
   "outputs": [],
   "source": [
    "param = {}\n",
    "param['objective'] = 'binary:softprob'\n",
    "param['eta'] = 0.2\n",
    "param['max_depth'] = 4\n",
    "param['silent'] = 1\n",
    "param['num_class'] = 3\n",
    "param['eval_metric'] = \"logloss\"\n",
    "param['min_child_weight'] = 1\n",
    "param['subsample'] = 0.7\n",
    "param['colsample_bytree'] = 0.5\n",
    "param['seed'] = 1337"
   ]
  },
  {
   "cell_type": "code",
   "execution_count": 31,
   "metadata": {
    "ExecuteTime": {
     "end_time": "2017-04-21T06:18:58.799314Z",
     "start_time": "2017-04-21T06:18:58.794489Z"
    }
   },
   "outputs": [],
   "source": [
    "from sklearn.preprocessing import LabelBinarizer\n",
    "from sklearn.model_selection import train_test_split\n",
    "from sklearn.ensemble import RandomForestClassifier\n",
    "from sklearn.multioutput import MultiOutputClassifier"
   ]
  },
  {
   "cell_type": "code",
   "execution_count": 16,
   "metadata": {
    "ExecuteTime": {
     "end_time": "2017-04-21T06:10:22.617461Z",
     "start_time": "2017-04-21T06:10:22.614960Z"
    },
    "collapsed": true
   },
   "outputs": [],
   "source": [
    "le = LabelBinarizer()"
   ]
  },
  {
   "cell_type": "code",
   "execution_count": 18,
   "metadata": {
    "ExecuteTime": {
     "end_time": "2017-04-21T06:10:45.783573Z",
     "start_time": "2017-04-21T06:10:45.649143Z"
    }
   },
   "outputs": [],
   "source": [
    "y = le.fit_transform(df_train['tags'])"
   ]
  },
  {
   "cell_type": "code",
   "execution_count": 24,
   "metadata": {
    "ExecuteTime": {
     "end_time": "2017-04-21T06:11:56.363157Z",
     "start_time": "2017-04-21T06:11:56.361001Z"
    }
   },
   "outputs": [],
   "source": [
    "plst = list(param.items())"
   ]
  },
  {
   "cell_type": "code",
   "execution_count": 27,
   "metadata": {
    "ExecuteTime": {
     "end_time": "2017-04-21T06:15:04.726534Z",
     "start_time": "2017-04-21T06:15:04.594424Z"
    }
   },
   "outputs": [],
   "source": [
    "# Create a validation set\n",
    "x_trn, x_val, y_trn, y_val = train_test_split(X, y, test_size=0.2, random_state=42)"
   ]
  },
  {
   "cell_type": "code",
   "execution_count": 42,
   "metadata": {
    "ExecuteTime": {
     "end_time": "2017-04-21T06:31:47.113599Z",
     "start_time": "2017-04-21T06:31:47.111312Z"
    }
   },
   "outputs": [],
   "source": [
    "xgb_c = xgb.XGBClassifier(n_estimators=100)"
   ]
  },
  {
   "cell_type": "code",
   "execution_count": 43,
   "metadata": {
    "ExecuteTime": {
     "end_time": "2017-04-21T06:31:53.203540Z",
     "start_time": "2017-04-21T06:31:53.201474Z"
    },
    "collapsed": true
   },
   "outputs": [],
   "source": [
    "multi_target_forest = MultiOutputClassifier(xgb_c, n_jobs=-1)"
   ]
  },
  {
   "cell_type": "code",
   "execution_count": 44,
   "metadata": {
    "ExecuteTime": {
     "end_time": "2017-04-21T06:31:54.526726Z",
     "start_time": "2017-04-21T06:31:54.524871Z"
    },
    "collapsed": true
   },
   "outputs": [],
   "source": [
    "X = X.reshape(40479,2048)"
   ]
  },
  {
   "cell_type": "code",
   "execution_count": null,
   "metadata": {
    "ExecuteTime": {
     "start_time": "2017-04-21T06:31:59.421Z"
    }
   },
   "outputs": [],
   "source": [
    "multi_target_forest.fit(X, y)"
   ]
  },
  {
   "cell_type": "code",
   "execution_count": null,
   "metadata": {
    "ExecuteTime": {
     "start_time": "2017-04-21T06:34:09.608Z"
    },
    "collapsed": true
   },
   "outputs": [],
   "source": [
    "from sklearn.externals import joblib\n",
    "joblib.dump(multi_target_forest, 'multi_target_forest.pkl') "
   ]
  },
  {
   "cell_type": "code",
   "execution_count": null,
   "metadata": {
    "collapsed": true
   },
   "outputs": [],
   "source": []
  }
 ],
 "metadata": {
  "kernelspec": {
   "display_name": "Python 3",
   "language": "python",
   "name": "python3"
  },
  "language_info": {
   "codemirror_mode": {
    "name": "ipython",
    "version": 3
   },
   "file_extension": ".py",
   "mimetype": "text/x-python",
   "name": "python",
   "nbconvert_exporter": "python",
   "pygments_lexer": "ipython3",
   "version": "3.6.0"
  }
 },
 "nbformat": 4,
 "nbformat_minor": 2
}
