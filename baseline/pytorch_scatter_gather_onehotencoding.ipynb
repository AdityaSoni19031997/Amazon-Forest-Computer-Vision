{
 "cells": [
  {
   "cell_type": "code",
   "execution_count": 3,
   "metadata": {
    "ExecuteTime": {
     "end_time": "2017-05-06T05:31:03.921480Z",
     "start_time": "2017-05-06T05:31:03.919143Z"
    },
    "collapsed": true
   },
   "outputs": [],
   "source": [
    "import torch\n",
    "from torch import nn\n",
    "from torch.autograd import Variable"
   ]
  },
  {
   "cell_type": "code",
   "execution_count": 4,
   "metadata": {
    "ExecuteTime": {
     "end_time": "2017-05-06T05:31:05.240531Z",
     "start_time": "2017-05-06T05:31:04.686364Z"
    },
    "collapsed": true
   },
   "outputs": [],
   "source": [
    "m = nn.LogSoftmax()\n",
    "loss = nn.NLLLoss()\n",
    "# input is of size nBatch x nClasses = 3 x 5\n",
    "input = Variable(torch.randn(3, 5), requires_grad=True)\n",
    "# each element in target has to have 0 <= value < nclasses\n",
    "target = Variable(torch.LongTensor([1, 0, 4]))\n",
    "output = loss(m(input), target)\n",
    "output.backward()"
   ]
  },
  {
   "cell_type": "code",
   "execution_count": 35,
   "metadata": {
    "ExecuteTime": {
     "end_time": "2017-05-06T05:49:58.231485Z",
     "start_time": "2017-05-06T05:49:58.229175Z"
    },
    "collapsed": true
   },
   "outputs": [],
   "source": [
    "target2 = Variable(torch.LongTensor([[0, 1, 0, 0, 0],\n",
    "                                     [1, 0, 0, 0, 0],\n",
    "                                     [0, 0, 0, 0, 1]]))"
   ]
  },
  {
   "cell_type": "code",
   "execution_count": 36,
   "metadata": {
    "ExecuteTime": {
     "end_time": "2017-05-06T05:49:58.819374Z",
     "start_time": "2017-05-06T05:49:58.816471Z"
    }
   },
   "outputs": [
    {
     "data": {
      "text/plain": [
       "Variable containing:\n",
       " 0  1  0  0  0\n",
       " 1  0  0  0  0\n",
       " 0  0  0  0  1\n",
       "[torch.LongTensor of size 3x5]"
      ]
     },
     "execution_count": 36,
     "metadata": {},
     "output_type": "execute_result"
    }
   ],
   "source": [
    "target2"
   ]
  },
  {
   "cell_type": "code",
   "execution_count": 23,
   "metadata": {
    "ExecuteTime": {
     "end_time": "2017-05-06T05:40:40.728998Z",
     "start_time": "2017-05-06T05:40:40.726516Z"
    },
    "collapsed": true
   },
   "outputs": [],
   "source": [
    "target_onehot = Variable(torch.zeros(3, 5))"
   ]
  },
  {
   "cell_type": "code",
   "execution_count": 24,
   "metadata": {
    "ExecuteTime": {
     "end_time": "2017-05-06T05:40:40.983895Z",
     "start_time": "2017-05-06T05:40:40.980668Z"
    }
   },
   "outputs": [
    {
     "data": {
      "text/plain": [
       "Variable containing:\n",
       " 0  0  0  0  0\n",
       " 0  0  0  0  0\n",
       " 0  0  0  0  0\n",
       "[torch.FloatTensor of size 3x5]"
      ]
     },
     "execution_count": 24,
     "metadata": {},
     "output_type": "execute_result"
    }
   ],
   "source": [
    "target_onehot"
   ]
  },
  {
   "cell_type": "code",
   "execution_count": 29,
   "metadata": {
    "ExecuteTime": {
     "end_time": "2017-05-06T05:42:54.036901Z",
     "start_time": "2017-05-06T05:42:54.033351Z"
    }
   },
   "outputs": [
    {
     "data": {
      "text/plain": [
       "Variable containing:\n",
       " 1\n",
       " 0\n",
       " 4\n",
       "[torch.LongTensor of size 3]"
      ]
     },
     "execution_count": 29,
     "metadata": {},
     "output_type": "execute_result"
    }
   ],
   "source": [
    "target"
   ]
  },
  {
   "cell_type": "code",
   "execution_count": 30,
   "metadata": {
    "ExecuteTime": {
     "end_time": "2017-05-06T05:43:22.951826Z",
     "start_time": "2017-05-06T05:43:22.949248Z"
    },
    "collapsed": true
   },
   "outputs": [],
   "source": [
    "targetv = target.view(-1,1)"
   ]
  },
  {
   "cell_type": "code",
   "execution_count": 31,
   "metadata": {
    "ExecuteTime": {
     "end_time": "2017-05-06T05:43:32.052043Z",
     "start_time": "2017-05-06T05:43:32.049359Z"
    }
   },
   "outputs": [
    {
     "data": {
      "text/plain": [
       "Variable containing:\n",
       " 1\n",
       " 0\n",
       " 4\n",
       "[torch.LongTensor of size 3x1]"
      ]
     },
     "execution_count": 31,
     "metadata": {},
     "output_type": "execute_result"
    }
   ],
   "source": [
    "targetv"
   ]
  },
  {
   "cell_type": "code",
   "execution_count": 71,
   "metadata": {
    "ExecuteTime": {
     "end_time": "2017-05-06T06:04:15.942080Z",
     "start_time": "2017-05-06T06:04:15.938887Z"
    }
   },
   "outputs": [
    {
     "data": {
      "text/plain": [
       "Variable containing:\n",
       " 0  1  0  0  0\n",
       " 1  0  0  0  0\n",
       " 0  0  0  0  1\n",
       "[torch.FloatTensor of size 3x5]"
      ]
     },
     "execution_count": 71,
     "metadata": {},
     "output_type": "execute_result"
    }
   ],
   "source": [
    "target_onehot.scatter(1, targetv, 1)"
   ]
  },
  {
   "cell_type": "code",
   "execution_count": 96,
   "metadata": {
    "ExecuteTime": {
     "end_time": "2017-05-06T06:34:33.131599Z",
     "start_time": "2017-05-06T06:34:33.129170Z"
    },
    "collapsed": true
   },
   "outputs": [],
   "source": [
    "s = torch.arange(0,5).expand(3,5) #expand is torch broadcasting"
   ]
  },
  {
   "cell_type": "code",
   "execution_count": 97,
   "metadata": {
    "ExecuteTime": {
     "end_time": "2017-05-06T06:34:33.451566Z",
     "start_time": "2017-05-06T06:34:33.448207Z"
    }
   },
   "outputs": [
    {
     "data": {
      "text/plain": [
       "\n",
       " 0  1  2  3  4\n",
       " 0  1  2  3  4\n",
       " 0  1  2  3  4\n",
       "[torch.FloatTensor of size 3x5]"
      ]
     },
     "execution_count": 97,
     "metadata": {},
     "output_type": "execute_result"
    }
   ],
   "source": [
    "s"
   ]
  },
  {
   "cell_type": "code",
   "execution_count": 88,
   "metadata": {
    "ExecuteTime": {
     "end_time": "2017-05-06T06:14:36.968468Z",
     "start_time": "2017-05-06T06:14:36.964932Z"
    }
   },
   "outputs": [
    {
     "data": {
      "text/plain": [
       "\n",
       " 0  1  0  0  0\n",
       " 1  0  0  0  0\n",
       " 0  0  0  0  1\n",
       "[torch.FloatTensor of size 3x5]"
      ]
     },
     "execution_count": 88,
     "metadata": {},
     "output_type": "execute_result"
    }
   ],
   "source": [
    "s.gather(1, target_onehot.data.long())"
   ]
  },
  {
   "cell_type": "markdown",
   "metadata": {},
   "source": []
  },
  {
   "cell_type": "code",
   "execution_count": 1,
   "metadata": {
    "ExecuteTime": {
     "end_time": "2017-05-06T08:19:14.558481Z",
     "start_time": "2017-05-06T08:19:14.437859Z"
    },
    "collapsed": true
   },
   "outputs": [],
   "source": [
    "import torch\n",
    "from torch import nn\n",
    "from torch.autograd import Variable"
   ]
  },
  {
   "cell_type": "code",
   "execution_count": 4,
   "metadata": {
    "ExecuteTime": {
     "end_time": "2017-05-06T08:19:38.356073Z",
     "start_time": "2017-05-06T08:19:38.350191Z"
    }
   },
   "outputs": [
    {
     "name": "stdout",
     "output_type": "stream",
     "text": [
      "Variable containing:\n",
      " 1\n",
      " 0\n",
      " 4\n",
      "[torch.LongTensor of size 3]\n",
      "\n",
      "Variable containing:\n",
      " 0  1  0  0  0\n",
      " 1  0  0  0  0\n",
      " 0  0  0  0  1\n",
      "[torch.FloatTensor of size 3x5]\n",
      "\n",
      "\n",
      " 0\n",
      " 1\n",
      " 2\n",
      " 3\n",
      " 4\n",
      "[torch.FloatTensor of size 5]\n",
      "\n",
      "\n",
      " 0  1  2  3  4\n",
      " 0  1  2  3  4\n",
      " 0  1  2  3  4\n",
      "[torch.FloatTensor of size 3x5]\n",
      "\n",
      "\n",
      " 1\n",
      " 0\n",
      " 4\n",
      "[torch.FloatTensor of size 3]\n",
      "\n"
     ]
    }
   ],
   "source": [
    "target = Variable(torch.LongTensor([1, 0, 4]))\n",
    "print(target)\n",
    "target_onehot = Variable(torch.zeros(3, 5))\n",
    "target_onehot.scatter_(1, target.view(-1,1), 1) #_ for inplace\n",
    "print(target_onehot)\n",
    "\n",
    "val = torch.arange(0,5)\n",
    "print(val)\n",
    "val = val.expand(3,5) #expand is torch broadcasting\n",
    "print(val)\n",
    "\n",
    "new_target=val.masked_select(target_onehot.data.byte())\n",
    "print(new_target)"
   ]
  },
  {
   "cell_type": "code",
   "execution_count": 95,
   "metadata": {
    "ExecuteTime": {
     "end_time": "2017-05-06T06:34:27.269336Z",
     "start_time": "2017-05-06T06:34:27.264843Z"
    }
   },
   "outputs": [
    {
     "ename": "RuntimeError",
     "evalue": "inconsistent tensor size at /pkg/makepkg/python-pytorch-git/src/pytorch/torch/lib/TH/generic/THTensorMath.c:193",
     "output_type": "error",
     "traceback": [
      "\u001b[0;31m---------------------------------------------------------------------------\u001b[0m",
      "\u001b[0;31mRuntimeError\u001b[0m                              Traceback (most recent call last)",
      "\u001b[0;32m<ipython-input-95-4730ba2bb717>\u001b[0m in \u001b[0;36m<module>\u001b[0;34m()\u001b[0m\n\u001b[0;32m----> 1\u001b[0;31m \u001b[0ms\u001b[0m\u001b[0;34m.\u001b[0m\u001b[0mmasked_select\u001b[0m\u001b[0;34m(\u001b[0m\u001b[0mtarget_onehot\u001b[0m\u001b[0;34m.\u001b[0m\u001b[0mdata\u001b[0m\u001b[0;34m.\u001b[0m\u001b[0mbyte\u001b[0m\u001b[0;34m(\u001b[0m\u001b[0;34m)\u001b[0m\u001b[0;34m)\u001b[0m\u001b[0;34m\u001b[0m\u001b[0m\n\u001b[0m",
      "\u001b[0;31mRuntimeError\u001b[0m: inconsistent tensor size at /pkg/makepkg/python-pytorch-git/src/pytorch/torch/lib/TH/generic/THTensorMath.c:193"
     ]
    }
   ],
   "source": [
    "s.masked_select(target_onehot.data.byte())"
   ]
  },
  {
   "cell_type": "code",
   "execution_count": null,
   "metadata": {
    "collapsed": true
   },
   "outputs": [],
   "source": []
  }
 ],
 "metadata": {
  "kernelspec": {
   "display_name": "Python 3",
   "language": "python",
   "name": "python3"
  },
  "language_info": {
   "codemirror_mode": {
    "name": "ipython",
    "version": 3
   },
   "file_extension": ".py",
   "mimetype": "text/x-python",
   "name": "python",
   "nbconvert_exporter": "python",
   "pygments_lexer": "ipython3",
   "version": "3.6.0"
  }
 },
 "nbformat": 4,
 "nbformat_minor": 2
}
